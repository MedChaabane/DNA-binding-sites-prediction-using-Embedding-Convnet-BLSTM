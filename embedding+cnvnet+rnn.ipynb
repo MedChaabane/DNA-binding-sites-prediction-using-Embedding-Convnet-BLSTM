{
  "nbformat": 4,
  "nbformat_minor": 0,
  "metadata": {
    "colab": {
      "name": "embedding+cnvnet+rnn.ipynb",
      "version": "0.3.2",
      "provenance": [],
      "collapsed_sections": [],
      "toc_visible": true
    },
    "kernelspec": {
      "name": "python3",
      "display_name": "Python 3"
    },
    "accelerator": "GPU"
  },
  "cells": [
    {
      "metadata": {
        "id": "T_Goiz940CV9",
        "colab_type": "code",
        "outputId": "35ae9704-b5f6-4a60-bb81-097868038b34",
        "colab": {
          "base_uri": "https://localhost:8080/",
          "height": 86
        }
      },
      "cell_type": "code",
      "source": [
        "from os import path\n",
        "from wheel.pep425tags import get_abbr_impl, get_impl_ver, get_abi_tag\n",
        "platform = '{}{}-{}'.format(get_abbr_impl(), get_impl_ver(), get_abi_tag())\n",
        "\n",
        "accelerator = 'cu80' if path.exists('/opt/bin/nvidia-smi') else 'cpu'\n",
        "\n",
        "!pip install -q http://download.pytorch.org/whl/{accelerator}/torch-0.4.0-{platform}-linux_x86_64.whl torchvision\n",
        "import torch\n",
        "print(torch.__version__)\n",
        "print(torch.cuda.is_available())"
      ],
      "execution_count": 0,
      "outputs": [
        {
          "output_type": "stream",
          "text": [
            "tcmalloc: large alloc 1073750016 bytes == 0x5b7ba000 @  0x7fa9d09c62a4 0x591a07 0x5b5d56 0x502e9a 0x506859 0x502209 0x502f3d 0x506859 0x504c28 0x502540 0x502f3d 0x506859 0x504c28 0x502540 0x502f3d 0x506859 0x504c28 0x502540 0x502f3d 0x507641 0x502209 0x502f3d 0x506859 0x504c28 0x502540 0x502f3d 0x507641 0x504c28 0x502540 0x502f3d 0x507641\n",
            "0.4.0\n",
            "True\n"
          ],
          "name": "stdout"
        }
      ]
    },
    {
      "metadata": {
        "id": "SYFcGK9Gv4zv",
        "colab_type": "code",
        "outputId": "32591a00-5bcf-4bcb-c0ed-7f1596a1f469",
        "colab": {
          "base_uri": "https://localhost:8080/",
          "height": 683
        }
      },
      "cell_type": "code",
      "source": [
        "!pip install --upgrade gensim"
      ],
      "execution_count": 0,
      "outputs": [
        {
          "output_type": "stream",
          "text": [
            "Collecting gensim\n",
            "\u001b[?25l  Downloading https://files.pythonhosted.org/packages/27/a4/d10c0acc8528d838cda5eede0ee9c784caa598dbf40bd0911ff8d067a7eb/gensim-3.6.0-cp36-cp36m-manylinux1_x86_64.whl (23.6MB)\n",
            "\u001b[K    100% |████████████████████████████████| 23.6MB 1.7MB/s \n",
            "\u001b[?25hRequirement already satisfied, skipping upgrade: scipy>=0.18.1 in /usr/local/lib/python3.6/dist-packages (from gensim) (1.1.0)\n",
            "Collecting smart-open>=1.2.1 (from gensim)\n",
            "  Downloading https://files.pythonhosted.org/packages/4b/1f/6f27e3682124de63ac97a0a5876da6186de6c19410feab66c1543afab055/smart_open-1.7.1.tar.gz\n",
            "Requirement already satisfied, skipping upgrade: six>=1.5.0 in /usr/local/lib/python3.6/dist-packages (from gensim) (1.11.0)\n",
            "Requirement already satisfied, skipping upgrade: numpy>=1.11.3 in /usr/local/lib/python3.6/dist-packages (from gensim) (1.14.6)\n",
            "Collecting boto>=2.32 (from smart-open>=1.2.1->gensim)\n",
            "\u001b[?25l  Downloading https://files.pythonhosted.org/packages/23/10/c0b78c27298029e4454a472a1919bde20cb182dab1662cec7f2ca1dcc523/boto-2.49.0-py2.py3-none-any.whl (1.4MB)\n",
            "\u001b[K    100% |████████████████████████████████| 1.4MB 16.0MB/s \n",
            "\u001b[?25hCollecting bz2file (from smart-open>=1.2.1->gensim)\n",
            "  Downloading https://files.pythonhosted.org/packages/61/39/122222b5e85cd41c391b68a99ee296584b2a2d1d233e7ee32b4532384f2d/bz2file-0.98.tar.gz\n",
            "Requirement already satisfied, skipping upgrade: requests in /usr/local/lib/python3.6/dist-packages (from smart-open>=1.2.1->gensim) (2.18.4)\n",
            "Collecting boto3 (from smart-open>=1.2.1->gensim)\n",
            "\u001b[?25l  Downloading https://files.pythonhosted.org/packages/a0/d8/8b000ffeba218d47cd81fbd0bd0b2790742f81ffe116964a298be785a8a4/boto3-1.9.50-py2.py3-none-any.whl (128kB)\n",
            "\u001b[K    100% |████████████████████████████████| 133kB 19.9MB/s \n",
            "\u001b[?25hRequirement already satisfied, skipping upgrade: idna<2.7,>=2.5 in /usr/local/lib/python3.6/dist-packages (from requests->smart-open>=1.2.1->gensim) (2.6)\n",
            "Requirement already satisfied, skipping upgrade: chardet<3.1.0,>=3.0.2 in /usr/local/lib/python3.6/dist-packages (from requests->smart-open>=1.2.1->gensim) (3.0.4)\n",
            "Requirement already satisfied, skipping upgrade: certifi>=2017.4.17 in /usr/local/lib/python3.6/dist-packages (from requests->smart-open>=1.2.1->gensim) (2018.10.15)\n",
            "Requirement already satisfied, skipping upgrade: urllib3<1.23,>=1.21.1 in /usr/local/lib/python3.6/dist-packages (from requests->smart-open>=1.2.1->gensim) (1.22)\n",
            "Collecting s3transfer<0.2.0,>=0.1.10 (from boto3->smart-open>=1.2.1->gensim)\n",
            "\u001b[?25l  Downloading https://files.pythonhosted.org/packages/d7/14/2a0004d487464d120c9fb85313a75cd3d71a7506955be458eebfe19a6b1d/s3transfer-0.1.13-py2.py3-none-any.whl (59kB)\n",
            "\u001b[K    100% |████████████████████████████████| 61kB 21.0MB/s \n",
            "\u001b[?25hCollecting jmespath<1.0.0,>=0.7.1 (from boto3->smart-open>=1.2.1->gensim)\n",
            "  Downloading https://files.pythonhosted.org/packages/b7/31/05c8d001f7f87f0f07289a5fc0fc3832e9a57f2dbd4d3b0fee70e0d51365/jmespath-0.9.3-py2.py3-none-any.whl\n",
            "Collecting botocore<1.13.0,>=1.12.50 (from boto3->smart-open>=1.2.1->gensim)\n",
            "\u001b[?25l  Downloading https://files.pythonhosted.org/packages/82/c1/a26012b4dbca2e2ae06d7b24dc6b4378c0b0544d25f3e3f216612db37033/botocore-1.12.50-py2.py3-none-any.whl (4.9MB)\n",
            "\u001b[K    100% |████████████████████████████████| 4.9MB 6.9MB/s \n",
            "\u001b[?25hCollecting docutils>=0.10 (from botocore<1.13.0,>=1.12.50->boto3->smart-open>=1.2.1->gensim)\n",
            "\u001b[?25l  Downloading https://files.pythonhosted.org/packages/36/fa/08e9e6e0e3cbd1d362c3bbee8d01d0aedb2155c4ac112b19ef3cae8eed8d/docutils-0.14-py3-none-any.whl (543kB)\n",
            "\u001b[K    100% |████████████████████████████████| 552kB 24.8MB/s \n",
            "\u001b[?25hRequirement already satisfied, skipping upgrade: python-dateutil<3.0.0,>=2.1; python_version >= \"2.7\" in /usr/local/lib/python3.6/dist-packages (from botocore<1.13.0,>=1.12.50->boto3->smart-open>=1.2.1->gensim) (2.5.3)\n",
            "Building wheels for collected packages: smart-open, bz2file\n",
            "  Running setup.py bdist_wheel for smart-open ... \u001b[?25l-\b \bdone\n",
            "\u001b[?25h  Stored in directory: /root/.cache/pip/wheels/23/00/44/e5b939f7a80c04e32297dbd6d96fa3065af89ecf57e2b5f89f\n",
            "  Running setup.py bdist_wheel for bz2file ... \u001b[?25l-\b \bdone\n",
            "\u001b[?25h  Stored in directory: /root/.cache/pip/wheels/81/75/d6/e1317bf09bf1af5a30befc2a007869fa6e1f516b8f7c591cb9\n",
            "Successfully built smart-open bz2file\n",
            "Installing collected packages: boto, bz2file, docutils, jmespath, botocore, s3transfer, boto3, smart-open, gensim\n",
            "Successfully installed boto-2.49.0 boto3-1.9.50 botocore-1.12.50 bz2file-0.98 docutils-0.14 gensim-3.6.0 jmespath-0.9.3 s3transfer-0.1.13 smart-open-1.7.1\n"
          ],
          "name": "stdout"
        }
      ]
    },
    {
      "metadata": {
        "id": "aeIU5kFp0H1O",
        "colab_type": "code",
        "outputId": "460bb577-c41b-422b-edc6-6303ad6eaaa0",
        "colab": {
          "base_uri": "https://localhost:8080/",
          "height": 118
        }
      },
      "cell_type": "code",
      "source": [
        "from google.colab import drive\n",
        "drive.mount('/content/drive')"
      ],
      "execution_count": 0,
      "outputs": [
        {
          "output_type": "stream",
          "text": [
            "Go to this URL in a browser: https://accounts.google.com/o/oauth2/auth?client_id=947318989803-6bn6qk8qdgf4n4g3pfee6491hc0brc4i.apps.googleusercontent.com&redirect_uri=urn%3Aietf%3Awg%3Aoauth%3A2.0%3Aoob&scope=email%20https%3A%2F%2Fwww.googleapis.com%2Fauth%2Fdocs.test%20https%3A%2F%2Fwww.googleapis.com%2Fauth%2Fdrive%20https%3A%2F%2Fwww.googleapis.com%2Fauth%2Fdrive.photos.readonly%20https%3A%2F%2Fwww.googleapis.com%2Fauth%2Fpeopleapi.readonly&response_type=code\n",
            "\n",
            "Enter your authorization code:\n",
            "··········\n",
            "Mounted at /content/drive\n"
          ],
          "name": "stdout"
        }
      ]
    },
    {
      "metadata": {
        "id": "O_pH6Jdz0VhA",
        "colab_type": "code",
        "outputId": "f0e405b8-a43c-4b18-d21b-901b44a74e27",
        "colab": {
          "base_uri": "https://localhost:8080/",
          "height": 50
        }
      },
      "cell_type": "code",
      "source": [
        "!ls \"/content/drive/My Drive/Deepbind/ELK1_GM12878_ELK1_(1277-1)_Stanford_AC/\""
      ],
      "execution_count": 0,
      "outputs": [
        {
          "output_type": "stream",
          "text": [
            "models_seq_pos_5_1.txt\tmodels_word2vec_model_5_1_60\n",
            "models_seq_pos_5_2.txt\tmodels_word2vec_model_5_2_60\n"
          ],
          "name": "stdout"
        }
      ]
    },
    {
      "metadata": {
        "id": "hJ3u9Tweh2jw",
        "colab_type": "code",
        "colab": {}
      },
      "cell_type": "code",
      "source": [
        "# memory footprint support libraries/code\n",
        "!ln -sf /opt/bin/nvidia-smi /usr/bin/nvidia-smi\n",
        "!pip install gputil\n",
        "!pip install psutil\n",
        "!pip install humanize\n",
        "import psutil\n",
        "import humanize\n",
        "import os\n",
        "import GPUtil as GPU\n",
        "GPUs = GPU.getGPUs()\n",
        "# XXX: only one GPU on Colab and isn’t guaranteed\n",
        "gpu = GPUs[0]\n",
        "def printm():\n",
        "       process = psutil.Process(os.getpid())\n",
        "       print(\"Gen RAM Free: \" + humanize.naturalsize( psutil.virtual_memory().available ), \" | Proc size: \" + humanize.naturalsize( process.memory_info().rss))\n",
        "       print(\"GPU RAM Free: {0:.0f}MB | Used: {1:.0f}MB | Util {2:3.0f}% | Total {3:.0f}MB\".format(gpu.memoryFree, gpu.memoryUsed, gpu.memoryUtil*100, gpu.memoryTotal))\n",
        "printm()"
      ],
      "execution_count": 0,
      "outputs": []
    },
    {
      "metadata": {
        "id": "lHI_wW1cz8FN",
        "colab_type": "code",
        "colab": {}
      },
      "cell_type": "code",
      "source": [
        "import numpy as np\n",
        "import csv\n",
        "import math \n",
        "import random\n",
        "import gzip\n",
        "from scipy.stats import bernoulli\n",
        "import torch\n",
        "from sklearn import metrics\n",
        "from gensim.models import Word2Vec\n",
        "from gensim.models.word2vec import LineSentence\n",
        "import gensim\n",
        "import multiprocessing"
      ],
      "execution_count": 0,
      "outputs": []
    },
    {
      "metadata": {
        "id": "9mOZziHBz8FT",
        "colab_type": "code",
        "colab": {}
      },
      "cell_type": "code",
      "source": [
        "nummotif=16 #number of motifs to discover\n",
        "bases='ACGT' #DNA bases\n",
        "basesRNA='ACGU'#RNA bases\n",
        "batch_size=64 #fixed batch size -> see notes to problem about it\n",
        "dictReverse={'A':'T','C':'G','G':'C','T':'A','N':'N'} #dictionary to implement reverse-complement mode\n",
        "reverse_mode=False"
      ],
      "execution_count": 0,
      "outputs": []
    },
    {
      "metadata": {
        "id": "lBcVVpC8z8Fb",
        "colab_type": "code",
        "colab": {}
      },
      "cell_type": "code",
      "source": [
        "def dinucshuffle(sequence):\n",
        "    b=[sequence[i:i+2] for i in range(0, len(sequence), 2)]\n",
        "    random.shuffle(b)\n",
        "    d=''.join([str(x) for x in b])\n",
        "    return d"
      ],
      "execution_count": 0,
      "outputs": []
    },
    {
      "metadata": {
        "id": "LGWkcTgD7xrE",
        "colab_type": "code",
        "colab": {}
      },
      "cell_type": "code",
      "source": [
        "def complement(seq):\n",
        "    complement = {'A': 'T', 'C': 'G', 'G': 'C', 'T': 'A', 'N': 'N'}\n",
        "    complseq = [complement[base] for base in seq]\n",
        "    return complseq\n",
        "  \n",
        "def reverse_complement(seq):\n",
        "    seq = list(seq)\n",
        "    seq.reverse()\n",
        "    return ''.join(complement(seq))\n"
      ],
      "execution_count": 0,
      "outputs": []
    },
    {
      "metadata": {
        "id": "EWrav39hslH0",
        "colab_type": "code",
        "colab": {}
      },
      "cell_type": "code",
      "source": [
        "def seq2ngram2(seqs, k, s, dest):\n",
        "    f = open(seqs)\n",
        "    lines = f.readlines()\n",
        "    f.close()\n",
        "\n",
        "    print('need to n-gram %d lines' % len(lines))\n",
        "    f = open(dest, 'w')\n",
        "    for num, line in enumerate(lines):\n",
        "        if num < 100000:\n",
        "            line = line[:-1]  # remove '\\n' and lower ACGT\n",
        "            l = len(line)  # length of line\n",
        "\n",
        "            for i in range(0, l, s):\n",
        "                if i + k >= l + 1:\n",
        "                    break\n",
        "\n",
        "                f.write(''.join(line[i:i + k]))\n",
        "                f.write(' ')\n",
        "            f.write('\\n')\n",
        "    f.close()\n",
        "\n",
        "\n",
        "def word2vect(k, s, vector_dim, root_path, pos_sequences):\n",
        "    seq2ngram2(pos_sequences, k, s, root_path+'seq_pos_' + str(k) + '_' + str(s) + '.txt')\n",
        "    sentences = LineSentence(root_path+'seq_pos_' + str(k) + '_' + str(s) + '.txt')\n",
        "\n",
        "    mode1 = gensim.models.Word2Vec(sentences, iter=20, window=int(12 / s), min_count=0, size=vector_dim,\n",
        "                                   workers=multiprocessing.cpu_count())\n",
        "    mode1.save(root_path + 'word2vec_model' + '_' + str(k) + '_' + str(s) + '_' + str(vector_dim))\n",
        "    word2vec_path=root_path + 'word2vec_model' + '_' + str(k) + '_' + str(s) + '_' + str(vector_dim)\n",
        "    return word2vec_path"
      ],
      "execution_count": 0,
      "outputs": []
    },
    {
      "metadata": {
        "id": "O7LnslLYz8Fj",
        "colab_type": "code",
        "colab": {}
      },
      "cell_type": "code",
      "source": [
        "class Chip():\n",
        "    def __init__(self,filename,pos_seq_dest):\n",
        "        self.file = filename\n",
        "        self.pos_seq_dest = pos_seq_dest\n",
        "            \n",
        "    def openFile(self):\n",
        "        train_dataset=[]\n",
        "        f = open(self.pos_seq_dest, 'w')\n",
        "\n",
        "        with gzip.open(self.file, 'rt') as data:\n",
        "            next(data)\n",
        "            reader = csv.reader(data,delimiter='\\t')\n",
        "           \n",
        "            for row in reader:\n",
        "                f.write(row[2])\n",
        "                f.write('\\n')\n",
        "                f.write(dinucshuffle(row[2]))\n",
        "                f.write('\\n')\n",
        "                train_dataset.append([row[2],[1]])\n",
        "                train_dataset.append([dinucshuffle(row[2]),[0]])\n",
        "                    \n",
        "        f.close()\n",
        "        train_dataset_pad=train_dataset\n",
        "\n",
        "        size=int(len(train_dataset_pad)/3)\n",
        "\n",
        "        firstvalid=train_dataset_pad[:size]\n",
        "        secondvalid=train_dataset_pad[size:size+size]\n",
        "        thirdvalid=train_dataset_pad[size+size:]\n",
        "        firsttrain=secondvalid+thirdvalid\n",
        "        secondtrain=firstvalid+thirdvalid\n",
        "        thirdtrain=firstvalid+secondvalid\n",
        "        return firsttrain,firstvalid,secondtrain,secondvalid,thirdtrain,thirdvalid,train_dataset_pad\n",
        "        "
      ],
      "execution_count": 0,
      "outputs": []
    },
    {
      "metadata": {
        "id": "AYAVo8SVPJQn",
        "colab_type": "code",
        "colab": {}
      },
      "cell_type": "code",
      "source": [
        "class Chip_test():\n",
        "    def __init__(self,filename):\n",
        "        self.file = filename\n",
        "       \n",
        "            \n",
        "    def openFile(self):\n",
        "        test_dataset=[]\n",
        "        with gzip.open(self.file, 'rt') as data:\n",
        "            next(data)\n",
        "            reader = csv.reader(data,delimiter='\\t')\n",
        "            \n",
        "            for row in reader:\n",
        "                    test_dataset.append([(row[2]),[int(row[3])]])\n",
        "            \n",
        "            \n",
        "        return test_dataset"
      ],
      "execution_count": 0,
      "outputs": []
    },
    {
      "metadata": {
        "id": "GwYhmKt6z8Fn",
        "colab_type": "code",
        "colab": {}
      },
      "cell_type": "code",
      "source": [
        "# chipseq=Chip('/content/drive/My Drive/Deepbind/ZBTB7A_HepG2_ZBTB7A_(SC-34508)_HudsonAlpha_AC.seq.gz')\n",
        "dataset_path='/content/drive/My Drive/Deepbind/USF1_HepG2_USF-1_HudsonAlpha_AC.seq.gz'\n",
        "pos_seq_path='/content/drive/My Drive/Deepbind/USF1_HepG2_USF-1_HudsonAlpha_AC.seq/seq.alldata.txt'\n",
        "chipseq=Chip(dataset_path,pos_seq_path)\n",
        "\n"
      ],
      "execution_count": 0,
      "outputs": []
    },
    {
      "metadata": {
        "id": "7Bn0w6urz8Fs",
        "colab_type": "code",
        "colab": {}
      },
      "cell_type": "code",
      "source": [
        "train1,valid1,train2,valid2,train3,valid3,alldataset=chipseq.openFile()"
      ],
      "execution_count": 0,
      "outputs": []
    },
    {
      "metadata": {
        "id": "YfzdBrMYtBhz",
        "colab_type": "code",
        "outputId": "640229d9-39fc-4525-c3b6-3ae75bc8ab3b",
        "colab": {
          "base_uri": "https://localhost:8080/",
          "height": 33
        }
      },
      "cell_type": "code",
      "source": [
        "embedding_dim=50\n",
        "K_mer=5\n",
        "s=2\n",
        "word2vec='/content/drive/My Drive/Deepbind/USF1_HepG2_USF-1_HudsonAlpha_AC.seq/models_'\n",
        "word2vec_path=word2vect(k=K_mer, s=s, vector_dim=embedding_dim, root_path=word2vec,pos_sequences= pos_seq_path)"
      ],
      "execution_count": 0,
      "outputs": [
        {
          "output_type": "stream",
          "text": [
            "need to n-gram 42780 lines\n"
          ],
          "name": "stdout"
        }
      ]
    },
    {
      "metadata": {
        "id": "Ds1Rzx2lyTes",
        "colab_type": "code",
        "outputId": "97ca0efd-a73d-481f-bebe-b7d17d998c07",
        "colab": {
          "base_uri": "https://localhost:8080/",
          "height": 70
        }
      },
      "cell_type": "code",
      "source": [
        "model1 = gensim.models.Word2Vec.load(word2vec_path)\n",
        "weights = torch.FloatTensor(model1.wv.vectors)\n",
        "print(weights.shape)\n",
        "print(model1.wv.vocab)"
      ],
      "execution_count": 0,
      "outputs": [
        {
          "output_type": "stream",
          "text": [
            "torch.Size([1024, 50])\n",
            "{'CAGCC': <gensim.models.keyedvectors.Vocab object at 0x7fb05e1e04e0>, 'GCCAT': <gensim.models.keyedvectors.Vocab object at 0x7fb05e1e0ac8>, 'CATTG': <gensim.models.keyedvectors.Vocab object at 0x7fb05e1e0c88>, 'TTGAA': <gensim.models.keyedvectors.Vocab object at 0x7fb05e1e0f98>, 'GAAGA': <gensim.models.keyedvectors.Vocab object at 0x7fb05e1e0710>, 'AGATG': <gensim.models.keyedvectors.Vocab object at 0x7fb05e1e0b38>, 'ATGCC': <gensim.models.keyedvectors.Vocab object at 0x7fb05e1e0d30>, 'GCCCC': <gensim.models.keyedvectors.Vocab object at 0x7fb05e1e0048>, 'CCCAC': <gensim.models.keyedvectors.Vocab object at 0x7fb05e1e02b0>, 'CACTT': <gensim.models.keyedvectors.Vocab object at 0x7fb05e1e0ba8>, 'CTTCA': <gensim.models.keyedvectors.Vocab object at 0x7fb05e1e0f60>, 'TCAGG': <gensim.models.keyedvectors.Vocab object at 0x7fb05e1e00f0>, 'AGGCA': <gensim.models.keyedvectors.Vocab object at 0x7fb05e1e0320>, 'GCACC': <gensim.models.keyedvectors.Vocab object at 0x7fb05e1e0828>, 'ACCGA': <gensim.models.keyedvectors.Vocab object at 0x7fb05e1e0da0>, 'CGACA': <gensim.models.keyedvectors.Vocab object at 0x7fb05e1e0b00>, 'ACAGG': <gensim.models.keyedvectors.Vocab object at 0x7fb05e1e05f8>, 'AGGCG': <gensim.models.keyedvectors.Vocab object at 0x7fb05e1e0cf8>, 'GCGTC': <gensim.models.keyedvectors.Vocab object at 0x7fb05e1e0518>, 'GTCAC': <gensim.models.keyedvectors.Vocab object at 0x7fb05e1e05c0>, 'CACGT': <gensim.models.keyedvectors.Vocab object at 0x7fb05e1e0470>, 'CGTGA': <gensim.models.keyedvectors.Vocab object at 0x7fb05e1e0630>, 'TGACG': <gensim.models.keyedvectors.Vocab object at 0x7fb05e1e0c18>, 'ACGGG': <gensim.models.keyedvectors.Vocab object at 0x7fb05e1e0588>, 'GGGTG': <gensim.models.keyedvectors.Vocab object at 0x7fb05e1e0160>, 'GTGGG': <gensim.models.keyedvectors.Vocab object at 0x7fb05e1e0eb8>, 'GGGGA': <gensim.models.keyedvectors.Vocab object at 0x7fb05e1e0d68>, 'GGAAC': <gensim.models.keyedvectors.Vocab object at 0x7fb05e1e0908>, 'AACGC': <gensim.models.keyedvectors.Vocab object at 0x7fb05e1e0278>, 'CGCCA': <gensim.models.keyedvectors.Vocab object at 0x7fb05e1e0a20>, 'CCAAC': <gensim.models.keyedvectors.Vocab object at 0x7fb05e1e0240>, 'AACCG': <gensim.models.keyedvectors.Vocab object at 0x7fb05e1e0748>, 'CCGCC': <gensim.models.keyedvectors.Vocab object at 0x7fb05e1e0358>, 'GCCTG': <gensim.models.keyedvectors.Vocab object at 0x7fb05e1e0be0>, 'CTGGG': <gensim.models.keyedvectors.Vocab object at 0x7fb05e1e43c8>, 'GGGCC': <gensim.models.keyedvectors.Vocab object at 0x7fb05e1e41d0>, 'GCCTA': <gensim.models.keyedvectors.Vocab object at 0x7fb05e1e4550>, 'CTAGC': <gensim.models.keyedvectors.Vocab object at 0x7fb05e1e4e10>, 'AGCGC': <gensim.models.keyedvectors.Vocab object at 0x7fb05e1e4198>, 'CGCAG': <gensim.models.keyedvectors.Vocab object at 0x7fb05e1e44a8>, 'CAGCT': <gensim.models.keyedvectors.Vocab object at 0x7fb05e1e4780>, 'GCTTC': <gensim.models.keyedvectors.Vocab object at 0x7fb05e1e4128>, 'TTCCT': <gensim.models.keyedvectors.Vocab object at 0x7fb05e1e4c50>, 'CCTCC': <gensim.models.keyedvectors.Vocab object at 0x7fb05e1e40f0>, 'TCCGC': <gensim.models.keyedvectors.Vocab object at 0x7fb05e1e4278>, 'CGCCC': <gensim.models.keyedvectors.Vocab object at 0x7fb05e1e4668>, 'CACCA': <gensim.models.keyedvectors.Vocab object at 0x7fb05e1e4710>, 'CCACG': <gensim.models.keyedvectors.Vocab object at 0x7fb05e1e4358>, 'CTCGC': <gensim.models.keyedvectors.Vocab object at 0x7fb05e1e4518>, 'CCCTA': <gensim.models.keyedvectors.Vocab object at 0x7fb05e1e4828>, 'AGCAG': <gensim.models.keyedvectors.Vocab object at 0x7fb05e1e44e0>, 'CAGCA': <gensim.models.keyedvectors.Vocab object at 0x7fb05e1e46a0>, 'GCAGG': <gensim.models.keyedvectors.Vocab object at 0x7fb05e1e4b70>, 'GCGCC': <gensim.models.keyedvectors.Vocab object at 0x7fb05e1e49b0>, 'GCCCG': <gensim.models.keyedvectors.Vocab object at 0x7fb05e1e4898>, 'GCCGC': <gensim.models.keyedvectors.Vocab object at 0x7fb05e1e4940>, 'CGCAA': <gensim.models.keyedvectors.Vocab object at 0x7fb05e1e4eb8>, 'CAACC': <gensim.models.keyedvectors.Vocab object at 0x7fb05e1e4b00>, 'ACCTA': <gensim.models.keyedvectors.Vocab object at 0x7fb05e1e45c0>, 'CTACC': <gensim.models.keyedvectors.Vocab object at 0x7fb05e1e4240>, 'ACCAT': <gensim.models.keyedvectors.Vocab object at 0x7fb05e1e42e8>, 'CATGG': <gensim.models.keyedvectors.Vocab object at 0x7fb05e1e4d30>, 'TGGAT': <gensim.models.keyedvectors.Vocab object at 0x7fb05e1e45f8>, 'GATTA': <gensim.models.keyedvectors.Vocab object at 0x7fb05e1e46d8>, 'TTACG': <gensim.models.keyedvectors.Vocab object at 0x7fb05e1e4a58>, 'GGGTT': <gensim.models.keyedvectors.Vocab object at 0x7fb05e1e4748>, 'GTTTC': <gensim.models.keyedvectors.Vocab object at 0x7fb05e1e4cc0>, 'TTCAC': <gensim.models.keyedvectors.Vocab object at 0x7fb05e1cf9b0>, 'CACGG': <gensim.models.keyedvectors.Vocab object at 0x7fb05e1cf710>, 'CGGAT': <gensim.models.keyedvectors.Vocab object at 0x7fb05e1cfa20>, 'GATCA': <gensim.models.keyedvectors.Vocab object at 0x7fb05e1cf588>, 'TCAAC': <gensim.models.keyedvectors.Vocab object at 0x7fb05e1cf4e0>, 'AACTC': <gensim.models.keyedvectors.Vocab object at 0x7fb05e1cf2b0>, 'CTCGG': <gensim.models.keyedvectors.Vocab object at 0x7fb05e1cf128>, 'CGGCC': <gensim.models.keyedvectors.Vocab object at 0x7fb05e1cf400>, 'CCCGC': <gensim.models.keyedvectors.Vocab object at 0x7fb05e1cf0f0>, 'CGCGT': <gensim.models.keyedvectors.Vocab object at 0x7fb05e1cf2e8>, 'CGTCG': <gensim.models.keyedvectors.Vocab object at 0x7fb05e1cfb38>, 'TCGCC': <gensim.models.keyedvectors.Vocab object at 0x7fb05e1cf828>, 'CCCTC': <gensim.models.keyedvectors.Vocab object at 0x7fb05e1cf278>, 'CTCAA': <gensim.models.keyedvectors.Vocab object at 0x7fb05e1cf518>, 'CAAAG': <gensim.models.keyedvectors.Vocab object at 0x7fb05e1cff60>, 'AAGCA': <gensim.models.keyedvectors.Vocab object at 0x7fb05e1cf320>, 'AGGAA': <gensim.models.keyedvectors.Vocab object at 0x7fb05e1cf198>, 'GAAGG': <gensim.models.keyedvectors.Vocab object at 0x7fb05e1cffd0>, 'GCGAG': <gensim.models.keyedvectors.Vocab object at 0x7fb05e1cfe48>, 'GAGGC': <gensim.models.keyedvectors.Vocab object at 0x7fb05e1cfbe0>, 'ACTGA': <gensim.models.keyedvectors.Vocab object at 0x7fb05e1cf6a0>, 'TGAAC': <gensim.models.keyedvectors.Vocab object at 0x7fb05e1cfd68>, 'CTCTG': <gensim.models.keyedvectors.Vocab object at 0x7fb05e1cf860>, 'CTGGT': <gensim.models.keyedvectors.Vocab object at 0x7fb05e1cf470>, 'GGTCC': <gensim.models.keyedvectors.Vocab object at 0x7fb05e1cf0b8>, 'TCCCA': <gensim.models.keyedvectors.Vocab object at 0x7fb05e1cf630>, 'CCACT': <gensim.models.keyedvectors.Vocab object at 0x7fb05e1cf240>, 'ACTTA': <gensim.models.keyedvectors.Vocab object at 0x7fb05e1cf6d8>, 'TTAGC': <gensim.models.keyedvectors.Vocab object at 0x7fb05e1cf4a8>, 'AGCGG': <gensim.models.keyedvectors.Vocab object at 0x7fb05e1cfc88>, 'CGGGA': <gensim.models.keyedvectors.Vocab object at 0x7fb05e1cf390>, 'GGAGA': <gensim.models.keyedvectors.Vocab object at 0x7fb05e1cf550>, 'AGAAA': <gensim.models.keyedvectors.Vocab object at 0x7fb05e1cfc50>, 'AAACT': <gensim.models.keyedvectors.Vocab object at 0x7fb05e1cfb70>, 'ACTCG': <gensim.models.keyedvectors.Vocab object at 0x7fb05d4de748>, 'TCGGG': <gensim.models.keyedvectors.Vocab object at 0x7fb05d4de828>, 'GCCAC': <gensim.models.keyedvectors.Vocab object at 0x7fb05d4de6d8>, 'TGACT': <gensim.models.keyedvectors.Vocab object at 0x7fb05d4de668>, 'ACTGT': <gensim.models.keyedvectors.Vocab object at 0x7fb05d4de5f8>, 'TGTCT': <gensim.models.keyedvectors.Vocab object at 0x7fb05d4de588>, 'TCTGA': <gensim.models.keyedvectors.Vocab object at 0x7fb05d4de518>, 'TGACC': <gensim.models.keyedvectors.Vocab object at 0x7fb05d4de4a8>, 'ACCAC': <gensim.models.keyedvectors.Vocab object at 0x7fb05d4de438>, 'TGAGC': <gensim.models.keyedvectors.Vocab object at 0x7fb05d4de3c8>, 'AGCCG': <gensim.models.keyedvectors.Vocab object at 0x7fb05d4de358>, 'CCGCG': <gensim.models.keyedvectors.Vocab object at 0x7fb05d4de2e8>, 'GTCGC': <gensim.models.keyedvectors.Vocab object at 0x7fb05d4de278>, 'CGCCG': <gensim.models.keyedvectors.Vocab object at 0x7fb05d4de208>, 'GCGAC': <gensim.models.keyedvectors.Vocab object at 0x7fb05d4de198>, 'GACCT': <gensim.models.keyedvectors.Vocab object at 0x7fb05d4de128>, 'CCTCT': <gensim.models.keyedvectors.Vocab object at 0x7fb05d4de0b8>, 'TCTTC': <gensim.models.keyedvectors.Vocab object at 0x7fb05d4de048>, 'TTCCG': <gensim.models.keyedvectors.Vocab object at 0x7fb05d4de7b8>, 'CCGCT': <gensim.models.keyedvectors.Vocab object at 0x7fb05d4dea20>, 'GCTCC': <gensim.models.keyedvectors.Vocab object at 0x7fb05d4dea90>, 'TCCCT': <gensim.models.keyedvectors.Vocab object at 0x7fb05d4de908>, 'CCTAG': <gensim.models.keyedvectors.Vocab object at 0x7fb05d4deda0>, 'TAGGC': <gensim.models.keyedvectors.Vocab object at 0x7fb05d4dee10>, 'GGCCC': <gensim.models.keyedvectors.Vocab object at 0x7fb05d4dee80>, 'CCCTG': <gensim.models.keyedvectors.Vocab object at 0x7fb05d4deef0>, 'TCGTC': <gensim.models.keyedvectors.Vocab object at 0x7fb05d4def60>, 'GTCCC': <gensim.models.keyedvectors.Vocab object at 0x7fb05d4defd0>, 'CCCTT': <gensim.models.keyedvectors.Vocab object at 0x7fb05d4deb00>, 'CTTTT': <gensim.models.keyedvectors.Vocab object at 0x7fb05d4deb70>, 'TTTGG': <gensim.models.keyedvectors.Vocab object at 0x7fb05d4dec18>, 'TGGAG': <gensim.models.keyedvectors.Vocab object at 0x7fb05d4dec88>, 'GAGGG': <gensim.models.keyedvectors.Vocab object at 0x7fb05d4decf8>, 'GCCCA': <gensim.models.keyedvectors.Vocab object at 0x7fb05d4ded30>, 'ACTCC': <gensim.models.keyedvectors.Vocab object at 0x7fb05d520048>, 'CCTCG': <gensim.models.keyedvectors.Vocab object at 0x7fb05d5200b8>, 'GGGCA': <gensim.models.keyedvectors.Vocab object at 0x7fb05d520128>, 'GCAGC': <gensim.models.keyedvectors.Vocab object at 0x7fb05d520198>, 'AGCAA': <gensim.models.keyedvectors.Vocab object at 0x7fb05d520208>, 'CAAAC': <gensim.models.keyedvectors.Vocab object at 0x7fb05d520278>, 'CGCTC': <gensim.models.keyedvectors.Vocab object at 0x7fb05d5202e8>, 'CTCAC': <gensim.models.keyedvectors.Vocab object at 0x7fb05d520358>, 'CGTTG': <gensim.models.keyedvectors.Vocab object at 0x7fb05d5203c8>, 'TTGGC': <gensim.models.keyedvectors.Vocab object at 0x7fb05d520438>, 'GGCGC': <gensim.models.keyedvectors.Vocab object at 0x7fb05d5204a8>, 'CGCCT': <gensim.models.keyedvectors.Vocab object at 0x7fb05d520518>, 'TCCCG': <gensim.models.keyedvectors.Vocab object at 0x7fb05d520588>, 'GCGGT': <gensim.models.keyedvectors.Vocab object at 0x7fb05d5205f8>, 'GGTGT': <gensim.models.keyedvectors.Vocab object at 0x7fb05d520668>, 'TGTAC': <gensim.models.keyedvectors.Vocab object at 0x7fb05d5206d8>, 'TACGG': <gensim.models.keyedvectors.Vocab object at 0x7fb05d520748>, 'CGGTG': <gensim.models.keyedvectors.Vocab object at 0x7fb05d5207b8>, 'GTGGC': <gensim.models.keyedvectors.Vocab object at 0x7fb05d520828>, 'GGCAC': <gensim.models.keyedvectors.Vocab object at 0x7fb05d520898>, 'CACCC': <gensim.models.keyedvectors.Vocab object at 0x7fb05d520908>, 'GGGAC': <gensim.models.keyedvectors.Vocab object at 0x7fb05d520978>, 'GACCC': <gensim.models.keyedvectors.Vocab object at 0x7fb05d5209e8>, 'CACAG': <gensim.models.keyedvectors.Vocab object at 0x7fb05d520a58>, 'TTCAA': <gensim.models.keyedvectors.Vocab object at 0x7fb05d520ac8>, 'AAGTG': <gensim.models.keyedvectors.Vocab object at 0x7fb05d520b38>, 'GTGAC': <gensim.models.keyedvectors.Vocab object at 0x7fb05d520ba8>, 'TCTTG': <gensim.models.keyedvectors.Vocab object at 0x7fb05d520c18>, 'TTGCC': <gensim.models.keyedvectors.Vocab object at 0x7fb05d520c88>, 'GCCGT': <gensim.models.keyedvectors.Vocab object at 0x7fb05d520cf8>, 'CGTAG': <gensim.models.keyedvectors.Vocab object at 0x7fb05d520d68>, 'TAGCT': <gensim.models.keyedvectors.Vocab object at 0x7fb05d520dd8>, 'GCTGC': <gensim.models.keyedvectors.Vocab object at 0x7fb05d520e48>, 'TGCGC': <gensim.models.keyedvectors.Vocab object at 0x7fb05d520eb8>, 'CACCG': <gensim.models.keyedvectors.Vocab object at 0x7fb05d520f28>, 'CCGGG': <gensim.models.keyedvectors.Vocab object at 0x7fb05d520f98>, 'GGGGC': <gensim.models.keyedvectors.Vocab object at 0x7fb05d4aaa20>, 'GGCCT': <gensim.models.keyedvectors.Vocab object at 0x7fb05d4aa6d8>, 'CCTCA': <gensim.models.keyedvectors.Vocab object at 0x7fb05d4aaef0>, 'TCACG': <gensim.models.keyedvectors.Vocab object at 0x7fb05d4aa7f0>, 'ACGTG': <gensim.models.keyedvectors.Vocab object at 0x7fb05d4aa240>, 'GACAC': <gensim.models.keyedvectors.Vocab object at 0x7fb05d4aafd0>, 'CACTA': <gensim.models.keyedvectors.Vocab object at 0x7fb05d4aaba8>, 'CTAGA': <gensim.models.keyedvectors.Vocab object at 0x7fb05d4aa588>, 'AGACT': <gensim.models.keyedvectors.Vocab object at 0x7fb05d4aa358>, 'ACTCT': <gensim.models.keyedvectors.Vocab object at 0x7fb05d4aa550>, 'TCTCC': <gensim.models.keyedvectors.Vocab object at 0x7fb05d4aa780>, 'CCGGC': <gensim.models.keyedvectors.Vocab object at 0x7fb05d4aa128>, 'GTGAG': <gensim.models.keyedvectors.Vocab object at 0x7fb05d4aa2e8>, 'GAGAA': <gensim.models.keyedvectors.Vocab object at 0x7fb05d4aab00>, 'GAAAG': <gensim.models.keyedvectors.Vocab object at 0x7fb05d4aa7b8>, 'AAGGG': <gensim.models.keyedvectors.Vocab object at 0x7fb05d4aa978>, 'GGCCG': <gensim.models.keyedvectors.Vocab object at 0x7fb05d4aaf28>, 'GGGCT': <gensim.models.keyedvectors.Vocab object at 0x7fb05d4aa320>, 'GCTGG': <gensim.models.keyedvectors.Vocab object at 0x7fb05d4aa160>, 'TGGGG': <gensim.models.keyedvectors.Vocab object at 0x7fb05d4aa5c0>, 'GGGCG': <gensim.models.keyedvectors.Vocab object at 0x7fb05d4aa048>, 'GCGGG': <gensim.models.keyedvectors.Vocab object at 0x7fb05d4aa748>, 'GGGAT': <gensim.models.keyedvectors.Vocab object at 0x7fb05d4aadd8>, 'GATAA': <gensim.models.keyedvectors.Vocab object at 0x7fb05d4aa1d0>, 'TAAGC': <gensim.models.keyedvectors.Vocab object at 0x7fb05d4aa4a8>, 'TAGCC': <gensim.models.keyedvectors.Vocab object at 0x7fb05d4aa278>, 'GCCCT': <gensim.models.keyedvectors.Vocab object at 0x7fb05d4aa3c8>, 'TCTCG': <gensim.models.keyedvectors.Vocab object at 0x7fb05d4aaa90>, 'TCGGC': <gensim.models.keyedvectors.Vocab object at 0x7fb05d4aa390>, 'CACAT': <gensim.models.keyedvectors.Vocab object at 0x7fb05d4aa9e8>, 'CATTA': <gensim.models.keyedvectors.Vocab object at 0x7fb05d4aa518>, 'TTAGG': <gensim.models.keyedvectors.Vocab object at 0x7fb05d4aa8d0>, 'AGGGG': <gensim.models.keyedvectors.Vocab object at 0x7fb05d4aa908>, 'GGGAG': <gensim.models.keyedvectors.Vocab object at 0x7fb05d4aa710>, 'GAGCA': <gensim.models.keyedvectors.Vocab object at 0x7fb05d4aac50>, 'GCACG': <gensim.models.keyedvectors.Vocab object at 0x7fb05d4aa5f8>, 'ACGGC': <gensim.models.keyedvectors.Vocab object at 0x7fb05d4dc048>, 'GCTTT': <gensim.models.keyedvectors.Vocab object at 0x7fb05d4dc0b8>, 'TTTCG': <gensim.models.keyedvectors.Vocab object at 0x7fb05d4dc128>, 'TCGTG': <gensim.models.keyedvectors.Vocab object at 0x7fb05d4dc198>, 'GGCGG': <gensim.models.keyedvectors.Vocab object at 0x7fb05d4dc208>, 'CGGGT': <gensim.models.keyedvectors.Vocab object at 0x7fb05d4dc278>, 'GGTGA': <gensim.models.keyedvectors.Vocab object at 0x7fb05d4dc2e8>, 'ACTAC': <gensim.models.keyedvectors.Vocab object at 0x7fb05d4dc358>, 'TACCT': <gensim.models.keyedvectors.Vocab object at 0x7fb05d4dc3c8>, 'CGCTG': <gensim.models.keyedvectors.Vocab object at 0x7fb05d4dc438>, 'CTGCC': <gensim.models.keyedvectors.Vocab object at 0x7fb05d4dc4a8>, 'CCGCA': <gensim.models.keyedvectors.Vocab object at 0x7fb05d4dc518>, 'ACCCC': <gensim.models.keyedvectors.Vocab object at 0x7fb05d4dc588>, 'CCCAT': <gensim.models.keyedvectors.Vocab object at 0x7fb05d4dc5f8>, 'CATGC': <gensim.models.keyedvectors.Vocab object at 0x7fb05d4dc668>, 'TGCGT': <gensim.models.keyedvectors.Vocab object at 0x7fb05d4dc6d8>, 'GGCAG': <gensim.models.keyedvectors.Vocab object at 0x7fb05d4dc748>, 'CAGTG': <gensim.models.keyedvectors.Vocab object at 0x7fb05d4dc7b8>, 'GTGAA': <gensim.models.keyedvectors.Vocab object at 0x7fb05d4dc828>, 'GGACC': <gensim.models.keyedvectors.Vocab object at 0x7fb05d4dc898>, 'ACCGG': <gensim.models.keyedvectors.Vocab object at 0x7fb05d4dc908>, 'CGGGC': <gensim.models.keyedvectors.Vocab object at 0x7fb05d4dc978>, 'GGCGA': <gensim.models.keyedvectors.Vocab object at 0x7fb05d4dc9e8>, 'CGATG': <gensim.models.keyedvectors.Vocab object at 0x7fb05d4dca58>, 'ATGGG': <gensim.models.keyedvectors.Vocab object at 0x7fb05d4dcac8>, 'CGGGG': <gensim.models.keyedvectors.Vocab object at 0x7fb05d4dcb38>, 'GCCTC': <gensim.models.keyedvectors.Vocab object at 0x7fb05d4dcba8>, 'CGCGC': <gensim.models.keyedvectors.Vocab object at 0x7fb05d4dcc18>, 'TCCCC': <gensim.models.keyedvectors.Vocab object at 0x7fb05d4dcc88>, 'CCCCG': <gensim.models.keyedvectors.Vocab object at 0x7fb05d4dccf8>, 'GGCGT': <gensim.models.keyedvectors.Vocab object at 0x7fb05d4dcd68>, 'CGTGG': <gensim.models.keyedvectors.Vocab object at 0x7fb05d4dcdd8>, 'TGGCG': <gensim.models.keyedvectors.Vocab object at 0x7fb05d4dce48>, 'GCGCG': <gensim.models.keyedvectors.Vocab object at 0x7fb05d4dceb8>, 'ACCCG': <gensim.models.keyedvectors.Vocab object at 0x7fb05d4dcf28>, 'GGGTC': <gensim.models.keyedvectors.Vocab object at 0x7fb05d4dcf98>, 'GGGGG': <gensim.models.keyedvectors.Vocab object at 0x7fb05d4b0048>, 'GCGGA': <gensim.models.keyedvectors.Vocab object at 0x7fb05d4b00b8>, 'GGAGG': <gensim.models.keyedvectors.Vocab object at 0x7fb05d4b0128>, 'AGGGC': <gensim.models.keyedvectors.Vocab object at 0x7fb05d4b0198>, 'CGCGG': <gensim.models.keyedvectors.Vocab object at 0x7fb05d4b0208>, 'CGGTC': <gensim.models.keyedvectors.Vocab object at 0x7fb05d4b0278>, 'CTGGA': <gensim.models.keyedvectors.Vocab object at 0x7fb05d4b02e8>, 'GGACG': <gensim.models.keyedvectors.Vocab object at 0x7fb05d4b0358>, 'CCGAC': <gensim.models.keyedvectors.Vocab object at 0x7fb05d4b03c8>, 'GACGT': <gensim.models.keyedvectors.Vocab object at 0x7fb05d4b0438>, 'CGTCC': <gensim.models.keyedvectors.Vocab object at 0x7fb05d4b04a8>, 'CCCGG': <gensim.models.keyedvectors.Vocab object at 0x7fb05d4b0518>, 'GCCGG': <gensim.models.keyedvectors.Vocab object at 0x7fb05d4b0588>, 'CGGCG': <gensim.models.keyedvectors.Vocab object at 0x7fb05d4b05f8>, 'GCGGC': <gensim.models.keyedvectors.Vocab object at 0x7fb05d4b0668>, 'GATTG': <gensim.models.keyedvectors.Vocab object at 0x7fb05d4b06d8>, 'TTGCG': <gensim.models.keyedvectors.Vocab object at 0x7fb05d4b0748>, 'CACAC': <gensim.models.keyedvectors.Vocab object at 0x7fb05d4b07b8>, 'CACTG': <gensim.models.keyedvectors.Vocab object at 0x7fb05d4b0828>, 'CTGGC': <gensim.models.keyedvectors.Vocab object at 0x7fb05d4b0898>, 'GGCTG': <gensim.models.keyedvectors.Vocab object at 0x7fb05d4b0908>, 'CCTGA': <gensim.models.keyedvectors.Vocab object at 0x7fb05d4b0978>, 'TGAAG': <gensim.models.keyedvectors.Vocab object at 0x7fb05d4b09e8>, 'AAGCC': <gensim.models.keyedvectors.Vocab object at 0x7fb05d4b0a58>, 'CCATT': <gensim.models.keyedvectors.Vocab object at 0x7fb05d4b0ac8>, 'ATTTC': <gensim.models.keyedvectors.Vocab object at 0x7fb05d4b0b38>, 'TTCCC': <gensim.models.keyedvectors.Vocab object at 0x7fb05d4b0ba8>, 'CCCAG': <gensim.models.keyedvectors.Vocab object at 0x7fb05d4b0c18>, 'CTTCT': <gensim.models.keyedvectors.Vocab object at 0x7fb05d4b0c88>, 'TCTGC': <gensim.models.keyedvectors.Vocab object at 0x7fb05d4b0cf8>, 'CAGGC': <gensim.models.keyedvectors.Vocab object at 0x7fb05d4b0d68>, 'TGATT': <gensim.models.keyedvectors.Vocab object at 0x7fb05d4b0dd8>, 'ATTCT': <gensim.models.keyedvectors.Vocab object at 0x7fb05d4b0e48>, 'TCTTA': <gensim.models.keyedvectors.Vocab object at 0x7fb05d4b0eb8>, 'TTACA': <gensim.models.keyedvectors.Vocab object at 0x7fb05d4b0f28>, 'AGGTC': <gensim.models.keyedvectors.Vocab object at 0x7fb05d4b0f98>, 'GTCCG': <gensim.models.keyedvectors.Vocab object at 0x7fb05d4b6048>, 'TCCTC': <gensim.models.keyedvectors.Vocab object at 0x7fb05d4b60b8>, 'CTCTA': <gensim.models.keyedvectors.Vocab object at 0x7fb05d4b6128>, 'AGCCC': <gensim.models.keyedvectors.Vocab object at 0x7fb05d4b6198>, 'CTCCC': <gensim.models.keyedvectors.Vocab object at 0x7fb05d4b6208>, 'CCATC': <gensim.models.keyedvectors.Vocab object at 0x7fb05d4b6278>, 'ATCTT': <gensim.models.keyedvectors.Vocab object at 0x7fb05d4b62e8>, 'CTTGG': <gensim.models.keyedvectors.Vocab object at 0x7fb05d4b6358>, 'GATGC': <gensim.models.keyedvectors.Vocab object at 0x7fb05d4b63c8>, 'TGCTG': <gensim.models.keyedvectors.Vocab object at 0x7fb05d4b6438>, 'GGATT': <gensim.models.keyedvectors.Vocab object at 0x7fb05d4b64a8>, 'ATTCC': <gensim.models.keyedvectors.Vocab object at 0x7fb05d4b6518>, 'CGCTA': <gensim.models.keyedvectors.Vocab object at 0x7fb05d4b6588>, 'CTACT': <gensim.models.keyedvectors.Vocab object at 0x7fb05d4b65f8>, 'ACTTC': <gensim.models.keyedvectors.Vocab object at 0x7fb05d4b6668>, 'TCTGG': <gensim.models.keyedvectors.Vocab object at 0x7fb05d4b66d8>, 'CCCAA': <gensim.models.keyedvectors.Vocab object at 0x7fb05d4b6748>, 'CAACA': <gensim.models.keyedvectors.Vocab object at 0x7fb05d4b67b8>, 'ACATT': <gensim.models.keyedvectors.Vocab object at 0x7fb05d4b6828>, 'ATTAG': <gensim.models.keyedvectors.Vocab object at 0x7fb05d4b6898>, 'GCCAG': <gensim.models.keyedvectors.Vocab object at 0x7fb05d4b6908>, 'CCCCA': <gensim.models.keyedvectors.Vocab object at 0x7fb05d4b6978>, 'CCAGC': <gensim.models.keyedvectors.Vocab object at 0x7fb05d4b69e8>, 'CCGGT': <gensim.models.keyedvectors.Vocab object at 0x7fb05d4b6a58>, 'GGTCA': <gensim.models.keyedvectors.Vocab object at 0x7fb05d4b6ac8>, 'GGAGT': <gensim.models.keyedvectors.Vocab object at 0x7fb05d4b6b38>, 'AGTGC': <gensim.models.keyedvectors.Vocab object at 0x7fb05d4b6ba8>, 'TGCCA': <gensim.models.keyedvectors.Vocab object at 0x7fb05d4b6c18>, 'CCAAA': <gensim.models.keyedvectors.Vocab object at 0x7fb05d4b6c88>, 'AAAGC': <gensim.models.keyedvectors.Vocab object at 0x7fb05d4b6cf8>, 'AGCCA': <gensim.models.keyedvectors.Vocab object at 0x7fb05d4b6d68>, 'CCACA': <gensim.models.keyedvectors.Vocab object at 0x7fb05d4b6dd8>, 'ACAAC': <gensim.models.keyedvectors.Vocab object at 0x7fb05d4b6e48>, 'CTCAG': <gensim.models.keyedvectors.Vocab object at 0x7fb05d4b6eb8>, 'CAGAA': <gensim.models.keyedvectors.Vocab object at 0x7fb05d4b6f28>, 'GAATT': <gensim.models.keyedvectors.Vocab object at 0x7fb05d4b6f98>, 'TCCAA': <gensim.models.keyedvectors.Vocab object at 0x7fb05d4e7048>, 'ACCTC': <gensim.models.keyedvectors.Vocab object at 0x7fb05d4e70b8>, 'AACCA': <gensim.models.keyedvectors.Vocab object at 0x7fb05d4e7128>, 'CCAAT': <gensim.models.keyedvectors.Vocab object at 0x7fb05d4e7198>, 'AATGA': <gensim.models.keyedvectors.Vocab object at 0x7fb05d4e7208>, 'TGAGA': <gensim.models.keyedvectors.Vocab object at 0x7fb05d4e7278>, 'AGAGG': <gensim.models.keyedvectors.Vocab object at 0x7fb05d4e72e8>, 'AGAGA': <gensim.models.keyedvectors.Vocab object at 0x7fb05d4e7358>, 'GAAAA': <gensim.models.keyedvectors.Vocab object at 0x7fb05d4e73c8>, 'AAATG': <gensim.models.keyedvectors.Vocab object at 0x7fb05d4e7438>, 'GGGAA': <gensim.models.keyedvectors.Vocab object at 0x7fb05d4e74a8>, 'GAACG': <gensim.models.keyedvectors.Vocab object at 0x7fb05d4e7518>, 'ACGTT': <gensim.models.keyedvectors.Vocab object at 0x7fb05d4e7588>, 'GTTTG': <gensim.models.keyedvectors.Vocab object at 0x7fb05d4e75f8>, 'TTGCA': <gensim.models.keyedvectors.Vocab object at 0x7fb05d4e7668>, 'GCAGT': <gensim.models.keyedvectors.Vocab object at 0x7fb05d4e76d8>, 'AGTCA': <gensim.models.keyedvectors.Vocab object at 0x7fb05d4e7748>, 'CCACC': <gensim.models.keyedvectors.Vocab object at 0x7fb05d4e77b8>, 'CTGAA': <gensim.models.keyedvectors.Vocab object at 0x7fb05d4e7828>, 'GAAAC': <gensim.models.keyedvectors.Vocab object at 0x7fb05d4e7898>, 'CTCCA': <gensim.models.keyedvectors.Vocab object at 0x7fb05d4e7908>, 'CCATA': <gensim.models.keyedvectors.Vocab object at 0x7fb05d4e7978>, 'ATAAC': <gensim.models.keyedvectors.Vocab object at 0x7fb05d4e79e8>, 'AACTG': <gensim.models.keyedvectors.Vocab object at 0x7fb05d4e7a58>, 'CTGAT': <gensim.models.keyedvectors.Vocab object at 0x7fb05d4e7ac8>, 'TCAAG': <gensim.models.keyedvectors.Vocab object at 0x7fb05d4e7b38>, 'AAGGA': <gensim.models.keyedvectors.Vocab object at 0x7fb05d4e7ba8>, 'GGAAA': <gensim.models.keyedvectors.Vocab object at 0x7fb05d4e7c18>, 'AAACG': <gensim.models.keyedvectors.Vocab object at 0x7fb05d4e7c88>, 'ACGAC': <gensim.models.keyedvectors.Vocab object at 0x7fb05d4e7cf8>, 'GACCA': <gensim.models.keyedvectors.Vocab object at 0x7fb05d4e7d68>, 'CCAGA': <gensim.models.keyedvectors.Vocab object at 0x7fb05d4e7dd8>, 'ACTTT': <gensim.models.keyedvectors.Vocab object at 0x7fb05d4e7e48>, 'TTTGC': <gensim.models.keyedvectors.Vocab object at 0x7fb05d4e7eb8>, 'CCAGG': <gensim.models.keyedvectors.Vocab object at 0x7fb05d4e7f28>, 'AGGGA': <gensim.models.keyedvectors.Vocab object at 0x7fb05d4e7f98>, 'GTTGC': <gensim.models.keyedvectors.Vocab object at 0x7fb05d4e6048>, 'TGCGG': <gensim.models.keyedvectors.Vocab object at 0x7fb05d4e60b8>, 'GGCAA': <gensim.models.keyedvectors.Vocab object at 0x7fb05d4e6128>, 'CAATC': <gensim.models.keyedvectors.Vocab object at 0x7fb05d4e6198>, 'ATCAG': <gensim.models.keyedvectors.Vocab object at 0x7fb05d4e6208>, 'CAGAG': <gensim.models.keyedvectors.Vocab object at 0x7fb05d4e6278>, 'AGCGT': <gensim.models.keyedvectors.Vocab object at 0x7fb05d4e62e8>, 'CGTCA': <gensim.models.keyedvectors.Vocab object at 0x7fb05d4e6358>, 'TCACA': <gensim.models.keyedvectors.Vocab object at 0x7fb05d4e63c8>, 'ACAGA': <gensim.models.keyedvectors.Vocab object at 0x7fb05d4e6438>, 'AAAAG': <gensim.models.keyedvectors.Vocab object at 0x7fb05d4e64a8>, 'GTGCC': <gensim.models.keyedvectors.Vocab object at 0x7fb05d4e6518>, 'TCTCA': <gensim.models.keyedvectors.Vocab object at 0x7fb05d4e6588>, 'TCACC': <gensim.models.keyedvectors.Vocab object at 0x7fb05d4e65f8>, 'ACCAG': <gensim.models.keyedvectors.Vocab object at 0x7fb05d4e6668>, 'GGCTT': <gensim.models.keyedvectors.Vocab object at 0x7fb05d4e66d8>, 'GAGTC': <gensim.models.keyedvectors.Vocab object at 0x7fb05d4e6748>, 'CATTC': <gensim.models.keyedvectors.Vocab object at 0x7fb05d4e67b8>, 'TTCTG': <gensim.models.keyedvectors.Vocab object at 0x7fb05d4e6828>, 'CCTTC': <gensim.models.keyedvectors.Vocab object at 0x7fb05d4e6898>, 'GGATC': <gensim.models.keyedvectors.Vocab object at 0x7fb05d4e6908>, 'ATCTG': <gensim.models.keyedvectors.Vocab object at 0x7fb05d4e6978>, 'CTGCT': <gensim.models.keyedvectors.Vocab object at 0x7fb05d4e69e8>, 'GCTGT': <gensim.models.keyedvectors.Vocab object at 0x7fb05d4e6a58>, 'TGTCA': <gensim.models.keyedvectors.Vocab object at 0x7fb05d4e6ac8>, 'TCATG': <gensim.models.keyedvectors.Vocab object at 0x7fb05d4e6b38>, 'ATGTG': <gensim.models.keyedvectors.Vocab object at 0x7fb05d4e6ba8>, 'GACGG': <gensim.models.keyedvectors.Vocab object at 0x7fb05d4e6c18>, 'ACATG': <gensim.models.keyedvectors.Vocab object at 0x7fb05d4e6c88>, 'ATGAG': <gensim.models.keyedvectors.Vocab object at 0x7fb05d4e6cf8>, 'GAGCT': <gensim.models.keyedvectors.Vocab object at 0x7fb05d4e6d68>, 'GCTCT': <gensim.models.keyedvectors.Vocab object at 0x7fb05d4e6dd8>, 'TCTAT': <gensim.models.keyedvectors.Vocab object at 0x7fb05d4e6e48>, 'TATAT': <gensim.models.keyedvectors.Vocab object at 0x7fb05d4e6eb8>, 'TATTC': <gensim.models.keyedvectors.Vocab object at 0x7fb05d4e6f28>, 'TTCCA': <gensim.models.keyedvectors.Vocab object at 0x7fb05d4e6f98>, 'TACCC': <gensim.models.keyedvectors.Vocab object at 0x7fb05d4d0fd0>, 'CCCCT': <gensim.models.keyedvectors.Vocab object at 0x7fb05d4d0f60>, 'TGCCT': <gensim.models.keyedvectors.Vocab object at 0x7fb05d4d0ef0>, 'GCATT': <gensim.models.keyedvectors.Vocab object at 0x7fb05d4d0e80>, 'ATTTT': <gensim.models.keyedvectors.Vocab object at 0x7fb05d4d0e10>, 'TTTCC': <gensim.models.keyedvectors.Vocab object at 0x7fb05d4d0da0>, 'GCTGA': <gensim.models.keyedvectors.Vocab object at 0x7fb05d4d0d30>, 'ATTAT': <gensim.models.keyedvectors.Vocab object at 0x7fb05d4d0cc0>, 'TTCGG': <gensim.models.keyedvectors.Vocab object at 0x7fb05d4d0c50>, 'CGGTA': <gensim.models.keyedvectors.Vocab object at 0x7fb05d4d0be0>, 'GTACT': <gensim.models.keyedvectors.Vocab object at 0x7fb05d4d0b70>, 'TGTAA': <gensim.models.keyedvectors.Vocab object at 0x7fb05d4d0b00>, 'TAATG': <gensim.models.keyedvectors.Vocab object at 0x7fb05d4d0a90>, 'ATGAT': <gensim.models.keyedvectors.Vocab object at 0x7fb05d4d0a20>, 'GGCCA': <gensim.models.keyedvectors.Vocab object at 0x7fb05d4d09b0>, 'TGTCG': <gensim.models.keyedvectors.Vocab object at 0x7fb05d4d0940>, 'TCGAT': <gensim.models.keyedvectors.Vocab object at 0x7fb05d4d08d0>, 'TTGTC': <gensim.models.keyedvectors.Vocab object at 0x7fb05d4d0860>, 'GTCAG': <gensim.models.keyedvectors.Vocab object at 0x7fb05d4d07f0>, 'CAGTC': <gensim.models.keyedvectors.Vocab object at 0x7fb05d4d0780>, 'TCATC': <gensim.models.keyedvectors.Vocab object at 0x7fb05d4d0710>, 'ATCCC': <gensim.models.keyedvectors.Vocab object at 0x7fb05d4d06a0>, 'CCCCC': <gensim.models.keyedvectors.Vocab object at 0x7fb05d4d0630>, 'CCCGA': <gensim.models.keyedvectors.Vocab object at 0x7fb05d4d05c0>, 'CGAAC': <gensim.models.keyedvectors.Vocab object at 0x7fb05d4d0550>, 'AACTA': <gensim.models.keyedvectors.Vocab object at 0x7fb05d4d04e0>, 'CTATA': <gensim.models.keyedvectors.Vocab object at 0x7fb05d4d0470>, 'ATAGG': <gensim.models.keyedvectors.Vocab object at 0x7fb05d4d0400>, 'GAAGT': <gensim.models.keyedvectors.Vocab object at 0x7fb05d4d0390>, 'AGTGG': <gensim.models.keyedvectors.Vocab object at 0x7fb05d4d0320>, 'TGGCT': <gensim.models.keyedvectors.Vocab object at 0x7fb05d4d02b0>, 'GCTCA': <gensim.models.keyedvectors.Vocab object at 0x7fb05d4d0240>, 'TCAGA': <gensim.models.keyedvectors.Vocab object at 0x7fb05d4d01d0>, 'AGAAG': <gensim.models.keyedvectors.Vocab object at 0x7fb05d4d0160>, 'AAGAC': <gensim.models.keyedvectors.Vocab object at 0x7fb05d4d00f0>, 'GACCG': <gensim.models.keyedvectors.Vocab object at 0x7fb05d4d0080>, 'GGTTC': <gensim.models.keyedvectors.Vocab object at 0x7fb05d4cc048>, 'TTCTC': <gensim.models.keyedvectors.Vocab object at 0x7fb05d4cc0b8>, 'CTAAT': <gensim.models.keyedvectors.Vocab object at 0x7fb05d4cc128>, 'AATCA': <gensim.models.keyedvectors.Vocab object at 0x7fb05d4cc198>, 'AGGTG': <gensim.models.keyedvectors.Vocab object at 0x7fb05d4cc208>, 'GACTC': <gensim.models.keyedvectors.Vocab object at 0x7fb05d4cc278>, 'CTCTC': <gensim.models.keyedvectors.Vocab object at 0x7fb05d4cc2e8>, 'TCCTG': <gensim.models.keyedvectors.Vocab object at 0x7fb05d4cc358>, 'CTGCA': <gensim.models.keyedvectors.Vocab object at 0x7fb05d4cc3c8>, 'CCGGA': <gensim.models.keyedvectors.Vocab object at 0x7fb05d4cc438>, 'GGAGC': <gensim.models.keyedvectors.Vocab object at 0x7fb05d4cc4a8>, 'GAAGC': <gensim.models.keyedvectors.Vocab object at 0x7fb05d4cc518>, 'CCGAT': <gensim.models.keyedvectors.Vocab object at 0x7fb05d4cc588>, 'GATCT': <gensim.models.keyedvectors.Vocab object at 0x7fb05d4cc5f8>, 'TCGAG': <gensim.models.keyedvectors.Vocab object at 0x7fb05d4cc668>, 'GCAGA': <gensim.models.keyedvectors.Vocab object at 0x7fb05d4cc6d8>, 'GGCTC': <gensim.models.keyedvectors.Vocab object at 0x7fb05d4cc748>, 'CTGTA': <gensim.models.keyedvectors.Vocab object at 0x7fb05d4cc7b8>, 'GTAAT': <gensim.models.keyedvectors.Vocab object at 0x7fb05d4cc828>, 'AATTA': <gensim.models.keyedvectors.Vocab object at 0x7fb05d4cc898>, 'AGCTT': <gensim.models.keyedvectors.Vocab object at 0x7fb05d4cc908>, 'CTTGC': <gensim.models.keyedvectors.Vocab object at 0x7fb05d4cc978>, 'TGCCC': <gensim.models.keyedvectors.Vocab object at 0x7fb05d4cc9e8>, 'ACAAA': <gensim.models.keyedvectors.Vocab object at 0x7fb05d4cca58>, 'AAAGT': <gensim.models.keyedvectors.Vocab object at 0x7fb05d4ccac8>, 'AGTAG': <gensim.models.keyedvectors.Vocab object at 0x7fb05d4ccb38>, 'CGATC': <gensim.models.keyedvectors.Vocab object at 0x7fb05d4ccba8>, 'ATCTC': <gensim.models.keyedvectors.Vocab object at 0x7fb05d4ccc18>, 'CTCGA': <gensim.models.keyedvectors.Vocab object at 0x7fb05d4ccc88>, 'CGAGA': <gensim.models.keyedvectors.Vocab object at 0x7fb05d4cccf8>, 'AGACC': <gensim.models.keyedvectors.Vocab object at 0x7fb05d4ccd68>, 'CGACT': <gensim.models.keyedvectors.Vocab object at 0x7fb05d4ccdd8>, 'ACTAA': <gensim.models.keyedvectors.Vocab object at 0x7fb05d4cce48>, 'TAACT': <gensim.models.keyedvectors.Vocab object at 0x7fb05d4cceb8>, 'TCGCT': <gensim.models.keyedvectors.Vocab object at 0x7fb05d4ccf28>, 'CCTGG': <gensim.models.keyedvectors.Vocab object at 0x7fb05d4ccf98>, 'TGGAA': <gensim.models.keyedvectors.Vocab object at 0x7fb05d4e4048>, 'ACGCC': <gensim.models.keyedvectors.Vocab object at 0x7fb05d4e40b8>, 'CGGAA': <gensim.models.keyedvectors.Vocab object at 0x7fb05d4e4128>, 'AGCTG': <gensim.models.keyedvectors.Vocab object at 0x7fb05d4e4198>, 'GCCGA': <gensim.models.keyedvectors.Vocab object at 0x7fb05d4e4208>, 'CGACC': <gensim.models.keyedvectors.Vocab object at 0x7fb05d4e4278>, 'ATTCG': <gensim.models.keyedvectors.Vocab object at 0x7fb05d4e42e8>, 'TCAGC': <gensim.models.keyedvectors.Vocab object at 0x7fb05d4e4358>, 'AGCTC': <gensim.models.keyedvectors.Vocab object at 0x7fb05d4e43c8>, 'TGACA': <gensim.models.keyedvectors.Vocab object at 0x7fb05d4e4438>, 'CGGAG': <gensim.models.keyedvectors.Vocab object at 0x7fb05d4e44a8>, 'GAGGT': <gensim.models.keyedvectors.Vocab object at 0x7fb05d4e4518>, 'GGTGG': <gensim.models.keyedvectors.Vocab object at 0x7fb05d4e4588>, 'TGGGA': <gensim.models.keyedvectors.Vocab object at 0x7fb05d4e45f8>, 'GCCAA': <gensim.models.keyedvectors.Vocab object at 0x7fb05d4e4668>, 'CAAAA': <gensim.models.keyedvectors.Vocab object at 0x7fb05d4e46d8>, 'ATGGC': <gensim.models.keyedvectors.Vocab object at 0x7fb05d4e4748>, 'CTAGG': <gensim.models.keyedvectors.Vocab object at 0x7fb05d4e47b8>, 'GGCAT': <gensim.models.keyedvectors.Vocab object at 0x7fb05d4e4828>, 'CATAG': <gensim.models.keyedvectors.Vocab object at 0x7fb05d4e4898>, 'TAGTC': <gensim.models.keyedvectors.Vocab object at 0x7fb05d4e4908>, 'GTCTG': <gensim.models.keyedvectors.Vocab object at 0x7fb05d4e4978>, 'GCTCG': <gensim.models.keyedvectors.Vocab object at 0x7fb05d4e49e8>, 'TAAGG': <gensim.models.keyedvectors.Vocab object at 0x7fb05d4e4a58>, 'GCGTG': <gensim.models.keyedvectors.Vocab object at 0x7fb05d4e4ac8>, 'GTGTC': <gensim.models.keyedvectors.Vocab object at 0x7fb05d4e4b38>, 'GTCCA': <gensim.models.keyedvectors.Vocab object at 0x7fb05d4e4ba8>, 'ATGAC': <gensim.models.keyedvectors.Vocab object at 0x7fb05d4e4c18>, 'AGGAC': <gensim.models.keyedvectors.Vocab object at 0x7fb05d4e4c88>, 'TGATG': <gensim.models.keyedvectors.Vocab object at 0x7fb05d4e4cf8>, 'TGAGT': <gensim.models.keyedvectors.Vocab object at 0x7fb05d4e4d68>, 'ACACC': <gensim.models.keyedvectors.Vocab object at 0x7fb05d4e4dd8>, 'CCGAG': <gensim.models.keyedvectors.Vocab object at 0x7fb05d4e4e48>, 'CTCAT': <gensim.models.keyedvectors.Vocab object at 0x7fb05d4e4eb8>, 'CTGCG': <gensim.models.keyedvectors.Vocab object at 0x7fb05d4e4f28>, 'GTCGG': <gensim.models.keyedvectors.Vocab object at 0x7fb05d4e4f98>, 'GGCTA': <gensim.models.keyedvectors.Vocab object at 0x7fb05d4c1048>, 'ACCGT': <gensim.models.keyedvectors.Vocab object at 0x7fb05d4c10b8>, 'CGTTC': <gensim.models.keyedvectors.Vocab object at 0x7fb05d4c1128>, 'CAACG': <gensim.models.keyedvectors.Vocab object at 0x7fb05d4c1198>, 'GTCTC': <gensim.models.keyedvectors.Vocab object at 0x7fb05d4c1208>, 'GACTT': <gensim.models.keyedvectors.Vocab object at 0x7fb05d4c1278>, 'ATCCG': <gensim.models.keyedvectors.Vocab object at 0x7fb05d4c12e8>, 'GACGA': <gensim.models.keyedvectors.Vocab object at 0x7fb05d4c1358>, 'AACCC': <gensim.models.keyedvectors.Vocab object at 0x7fb05d4c13c8>, 'ATCGG': <gensim.models.keyedvectors.Vocab object at 0x7fb05d4c1438>, 'GCCTT': <gensim.models.keyedvectors.Vocab object at 0x7fb05d4c14a8>, 'GAGAC': <gensim.models.keyedvectors.Vocab object at 0x7fb05d4c1518>, 'TCCGG': <gensim.models.keyedvectors.Vocab object at 0x7fb05d4c1588>, 'CGCAC': <gensim.models.keyedvectors.Vocab object at 0x7fb05d4c15f8>, 'CAGGA': <gensim.models.keyedvectors.Vocab object at 0x7fb05d4c1668>, 'GGATG': <gensim.models.keyedvectors.Vocab object at 0x7fb05d4c16d8>, 'ATGCA': <gensim.models.keyedvectors.Vocab object at 0x7fb05d4c1748>, 'ACCCA': <gensim.models.keyedvectors.Vocab object at 0x7fb05d4c17b8>, 'AACAC': <gensim.models.keyedvectors.Vocab object at 0x7fb05d4c1828>, 'TCGCA': <gensim.models.keyedvectors.Vocab object at 0x7fb05d4c1898>, 'AGAGT': <gensim.models.keyedvectors.Vocab object at 0x7fb05d4c1908>, 'AGTCC': <gensim.models.keyedvectors.Vocab object at 0x7fb05d4c1978>, 'GACGC': <gensim.models.keyedvectors.Vocab object at 0x7fb05d4c19e8>, 'TTCGC': <gensim.models.keyedvectors.Vocab object at 0x7fb05d4c1a58>, 'CAAGT': <gensim.models.keyedvectors.Vocab object at 0x7fb05d4c1ac8>, 'AGTTC': <gensim.models.keyedvectors.Vocab object at 0x7fb05d4c1b38>, 'CGGCA': <gensim.models.keyedvectors.Vocab object at 0x7fb05d4c1ba8>, 'GCATG': <gensim.models.keyedvectors.Vocab object at 0x7fb05d4c1c18>, 'ATGTA': <gensim.models.keyedvectors.Vocab object at 0x7fb05d4c1c88>, 'GTACA': <gensim.models.keyedvectors.Vocab object at 0x7fb05d4c1cf8>, 'ACACG': <gensim.models.keyedvectors.Vocab object at 0x7fb05d4c1d68>, 'GCACA': <gensim.models.keyedvectors.Vocab object at 0x7fb05d4c1dd8>, 'ACACA': <gensim.models.keyedvectors.Vocab object at 0x7fb05d4c1e48>, 'CGGAC': <gensim.models.keyedvectors.Vocab object at 0x7fb05d4c1eb8>, 'CCTAC': <gensim.models.keyedvectors.Vocab object at 0x7fb05d4c1f28>, 'TACAG': <gensim.models.keyedvectors.Vocab object at 0x7fb05d4c1f98>, 'CGCGA': <gensim.models.keyedvectors.Vocab object at 0x7fb05d4ba048>, 'CGACG': <gensim.models.keyedvectors.Vocab object at 0x7fb05d4ba0b8>, 'CTGAG': <gensim.models.keyedvectors.Vocab object at 0x7fb05d4ba128>, 'GAGAG': <gensim.models.keyedvectors.Vocab object at 0x7fb05d4ba198>, 'ACCGC': <gensim.models.keyedvectors.Vocab object at 0x7fb05d4ba208>, 'GCGAA': <gensim.models.keyedvectors.Vocab object at 0x7fb05d4ba278>, 'TGGGT': <gensim.models.keyedvectors.Vocab object at 0x7fb05d4ba2e8>, 'GTCAA': <gensim.models.keyedvectors.Vocab object at 0x7fb05d4ba358>, 'CAAGG': <gensim.models.keyedvectors.Vocab object at 0x7fb05d4ba3c8>, 'AGGCT': <gensim.models.keyedvectors.Vocab object at 0x7fb05d4ba438>, 'TGGCC': <gensim.models.keyedvectors.Vocab object at 0x7fb05d4ba4a8>, 'CGCTT': <gensim.models.keyedvectors.Vocab object at 0x7fb05d4ba518>, 'CTTGT': <gensim.models.keyedvectors.Vocab object at 0x7fb05d4ba588>, 'TCTAA': <gensim.models.keyedvectors.Vocab object at 0x7fb05d4ba5f8>, 'TAAAG': <gensim.models.keyedvectors.Vocab object at 0x7fb05d4ba668>, 'AAGCT': <gensim.models.keyedvectors.Vocab object at 0x7fb05d4ba6d8>, 'GCTAC': <gensim.models.keyedvectors.Vocab object at 0x7fb05d4ba748>, 'TACGA': <gensim.models.keyedvectors.Vocab object at 0x7fb05d4ba7b8>, 'GACTA': <gensim.models.keyedvectors.Vocab object at 0x7fb05d4ba828>, 'CCCGT': <gensim.models.keyedvectors.Vocab object at 0x7fb05d4ba898>, 'CGTGC': <gensim.models.keyedvectors.Vocab object at 0x7fb05d4ba908>, 'TGCAT': <gensim.models.keyedvectors.Vocab object at 0x7fb05d4ba978>, 'TTGGG': <gensim.models.keyedvectors.Vocab object at 0x7fb05d4ba9e8>, 'ATGCT': <gensim.models.keyedvectors.Vocab object at 0x7fb05d4baa58>, 'GCTTG': <gensim.models.keyedvectors.Vocab object at 0x7fb05d4baac8>, 'CACGA': <gensim.models.keyedvectors.Vocab object at 0x7fb05d4bab38>, 'TGGGC': <gensim.models.keyedvectors.Vocab object at 0x7fb05d4baba8>, 'TCGTA': <gensim.models.keyedvectors.Vocab object at 0x7fb05d4bac18>, 'GTAGA': <gensim.models.keyedvectors.Vocab object at 0x7fb05d4bac88>, 'GCTAG': <gensim.models.keyedvectors.Vocab object at 0x7fb05d4bacf8>, 'CCTGC': <gensim.models.keyedvectors.Vocab object at 0x7fb05d4bad68>, 'TGCAC': <gensim.models.keyedvectors.Vocab object at 0x7fb05d4badd8>, 'CGTGT': <gensim.models.keyedvectors.Vocab object at 0x7fb05d4bae48>, 'GAGCC': <gensim.models.keyedvectors.Vocab object at 0x7fb05d4baeb8>, 'CAGCG': <gensim.models.keyedvectors.Vocab object at 0x7fb05d4baf28>, 'CCAGT': <gensim.models.keyedvectors.Vocab object at 0x7fb05d4baf98>, 'AGATT': <gensim.models.keyedvectors.Vocab object at 0x7fb05d4b8048>, 'ATTAC': <gensim.models.keyedvectors.Vocab object at 0x7fb05d4b80b8>, 'TACGC': <gensim.models.keyedvectors.Vocab object at 0x7fb05d4b8128>, 'GTGAT': <gensim.models.keyedvectors.Vocab object at 0x7fb05d4b8198>, 'GCGCA': <gensim.models.keyedvectors.Vocab object at 0x7fb05d4b8208>, 'GCAAC': <gensim.models.keyedvectors.Vocab object at 0x7fb05d4b8278>, 'CCTTT': <gensim.models.keyedvectors.Vocab object at 0x7fb05d4b82e8>, 'TGGCA': <gensim.models.keyedvectors.Vocab object at 0x7fb05d4b8358>, 'TGCAG': <gensim.models.keyedvectors.Vocab object at 0x7fb05d4b83c8>, 'CTTTA': <gensim.models.keyedvectors.Vocab object at 0x7fb05d4b8438>, 'TTATG': <gensim.models.keyedvectors.Vocab object at 0x7fb05d4b84a8>, 'TGCCG': <gensim.models.keyedvectors.Vocab object at 0x7fb05d4b8518>, 'ACGCG': <gensim.models.keyedvectors.Vocab object at 0x7fb05d4b8588>, 'TCCAG': <gensim.models.keyedvectors.Vocab object at 0x7fb05d4b85f8>, 'ACGTC': <gensim.models.keyedvectors.Vocab object at 0x7fb05d4b8668>, 'AAGAG': <gensim.models.keyedvectors.Vocab object at 0x7fb05d4b86d8>, 'GTAGC': <gensim.models.keyedvectors.Vocab object at 0x7fb05d4b8748>, 'GCAAG': <gensim.models.keyedvectors.Vocab object at 0x7fb05d4b87b8>, 'CGAGC': <gensim.models.keyedvectors.Vocab object at 0x7fb05d4b8828>, 'GTGGA': <gensim.models.keyedvectors.Vocab object at 0x7fb05d4b8898>, 'GGTTG': <gensim.models.keyedvectors.Vocab object at 0x7fb05d4b8908>, 'ACGGT': <gensim.models.keyedvectors.Vocab object at 0x7fb05d4b8978>, 'ATTGC': <gensim.models.keyedvectors.Vocab object at 0x7fb05d4b89e8>, 'CGAGG': <gensim.models.keyedvectors.Vocab object at 0x7fb05d4b8a58>, 'AGGTT': <gensim.models.keyedvectors.Vocab object at 0x7fb05d4b8ac8>, 'GTTGA': <gensim.models.keyedvectors.Vocab object at 0x7fb05d4b8b38>, 'TCCTT': <gensim.models.keyedvectors.Vocab object at 0x7fb05d4b8ba8>, 'CAGAT': <gensim.models.keyedvectors.Vocab object at 0x7fb05d4b8c18>, 'CAGGG': <gensim.models.keyedvectors.Vocab object at 0x7fb05d4b8c88>, 'CGAGT': <gensim.models.keyedvectors.Vocab object at 0x7fb05d4b8cf8>, 'AGTCG': <gensim.models.keyedvectors.Vocab object at 0x7fb05d4b8d68>, 'GTATT': <gensim.models.keyedvectors.Vocab object at 0x7fb05d4b8dd8>, 'ATTGT': <gensim.models.keyedvectors.Vocab object at 0x7fb05d4b8e48>, 'TGTGA': <gensim.models.keyedvectors.Vocab object at 0x7fb05d4b8eb8>, 'ATGAA': <gensim.models.keyedvectors.Vocab object at 0x7fb05d4b8f28>, 'CACCT': <gensim.models.keyedvectors.Vocab object at 0x7fb05d4b8f98>, 'CCTGT': <gensim.models.keyedvectors.Vocab object at 0x7fb05d489048>, 'TGTCC': <gensim.models.keyedvectors.Vocab object at 0x7fb05d4890b8>, 'GAGTG': <gensim.models.keyedvectors.Vocab object at 0x7fb05d489128>, 'GTGTT': <gensim.models.keyedvectors.Vocab object at 0x7fb05d489198>, 'GTTGG': <gensim.models.keyedvectors.Vocab object at 0x7fb05d489208>, 'CGGCT': <gensim.models.keyedvectors.Vocab object at 0x7fb05d489278>, 'TCCTA': <gensim.models.keyedvectors.Vocab object at 0x7fb05d4892e8>, 'CTACG': <gensim.models.keyedvectors.Vocab object at 0x7fb05d489358>, 'ACGGA': <gensim.models.keyedvectors.Vocab object at 0x7fb05d4893c8>, 'CACGC': <gensim.models.keyedvectors.Vocab object at 0x7fb05d489438>, 'TTTGT': <gensim.models.keyedvectors.Vocab object at 0x7fb05d4894a8>, 'TGTTT': <gensim.models.keyedvectors.Vocab object at 0x7fb05d489518>, 'TTTTG': <gensim.models.keyedvectors.Vocab object at 0x7fb05d489588>, 'TTGAT': <gensim.models.keyedvectors.Vocab object at 0x7fb05d4895f8>, 'GATAC': <gensim.models.keyedvectors.Vocab object at 0x7fb05d489668>, 'GTGTG': <gensim.models.keyedvectors.Vocab object at 0x7fb05d4896d8>, 'CTTTG': <gensim.models.keyedvectors.Vocab object at 0x7fb05d489748>, 'TTGCT': <gensim.models.keyedvectors.Vocab object at 0x7fb05d4897b8>, 'GCTAA': <gensim.models.keyedvectors.Vocab object at 0x7fb05d489828>, 'TTGAC': <gensim.models.keyedvectors.Vocab object at 0x7fb05d489898>, 'GATCC': <gensim.models.keyedvectors.Vocab object at 0x7fb05d489908>, 'AGTGT': <gensim.models.keyedvectors.Vocab object at 0x7fb05d489978>, 'TGAGG': <gensim.models.keyedvectors.Vocab object at 0x7fb05d4899e8>, 'AGGAG': <gensim.models.keyedvectors.Vocab object at 0x7fb05d489a58>, 'GAGCG': <gensim.models.keyedvectors.Vocab object at 0x7fb05d489ac8>, 'TCATT': <gensim.models.keyedvectors.Vocab object at 0x7fb05d489b38>, 'CTGTT': <gensim.models.keyedvectors.Vocab object at 0x7fb05d489ba8>, 'GTTCT': <gensim.models.keyedvectors.Vocab object at 0x7fb05d489c18>, 'ATCAT': <gensim.models.keyedvectors.Vocab object at 0x7fb05d489c88>, 'CATCG': <gensim.models.keyedvectors.Vocab object at 0x7fb05d489cf8>, 'GGGGT': <gensim.models.keyedvectors.Vocab object at 0x7fb05d489d68>, 'TGGTG': <gensim.models.keyedvectors.Vocab object at 0x7fb05d489dd8>, 'TCGAA': <gensim.models.keyedvectors.Vocab object at 0x7fb05d489e48>, 'GAATG': <gensim.models.keyedvectors.Vocab object at 0x7fb05d489eb8>, 'CCGTG': <gensim.models.keyedvectors.Vocab object at 0x7fb05d489f28>, 'GGTGC': <gensim.models.keyedvectors.Vocab object at 0x7fb05d489f98>, 'CTGTG': <gensim.models.keyedvectors.Vocab object at 0x7fb05d46f048>, 'CAAGC': <gensim.models.keyedvectors.Vocab object at 0x7fb05d46f0b8>, 'ACAAT': <gensim.models.keyedvectors.Vocab object at 0x7fb05d46f128>, 'ACATC': <gensim.models.keyedvectors.Vocab object at 0x7fb05d46f198>, 'ATCCT': <gensim.models.keyedvectors.Vocab object at 0x7fb05d46f208>, 'TGTGG': <gensim.models.keyedvectors.Vocab object at 0x7fb05d46f278>, 'TGGAC': <gensim.models.keyedvectors.Vocab object at 0x7fb05d46f2e8>, 'TGATC': <gensim.models.keyedvectors.Vocab object at 0x7fb05d46f358>, 'ACAGC': <gensim.models.keyedvectors.Vocab object at 0x7fb05d46f3c8>, 'AGCAT': <gensim.models.keyedvectors.Vocab object at 0x7fb05d46f438>, 'CATCA': <gensim.models.keyedvectors.Vocab object at 0x7fb05d46f4a8>, 'CGAAA': <gensim.models.keyedvectors.Vocab object at 0x7fb05d46f518>, 'AAGGT': <gensim.models.keyedvectors.Vocab object at 0x7fb05d46f588>, 'GGTAA': <gensim.models.keyedvectors.Vocab object at 0x7fb05d46f5f8>, 'TAAAT': <gensim.models.keyedvectors.Vocab object at 0x7fb05d46f668>, 'AATAA': <gensim.models.keyedvectors.Vocab object at 0x7fb05d46f6d8>, 'AGGCC': <gensim.models.keyedvectors.Vocab object at 0x7fb05d46f748>, 'TATGT': <gensim.models.keyedvectors.Vocab object at 0x7fb05d46f7b8>, 'TGTTG': <gensim.models.keyedvectors.Vocab object at 0x7fb05d46f828>, 'GCATC': <gensim.models.keyedvectors.Vocab object at 0x7fb05d46f898>, 'ATCTA': <gensim.models.keyedvectors.Vocab object at 0x7fb05d46f908>, 'CTAGT': <gensim.models.keyedvectors.Vocab object at 0x7fb05d46f978>, 'AGTGA': <gensim.models.keyedvectors.Vocab object at 0x7fb05d46f9e8>, 'AGCAC': <gensim.models.keyedvectors.Vocab object at 0x7fb05d46fa58>, 'GGACA': <gensim.models.keyedvectors.Vocab object at 0x7fb05d46fac8>, 'GAACC': <gensim.models.keyedvectors.Vocab object at 0x7fb05d46fb38>, 'GCTTA': <gensim.models.keyedvectors.Vocab object at 0x7fb05d46fba8>, 'TTAAA': <gensim.models.keyedvectors.Vocab object at 0x7fb05d46fc18>, 'AAAGG': <gensim.models.keyedvectors.Vocab object at 0x7fb05d46fc88>, 'GAACT': <gensim.models.keyedvectors.Vocab object at 0x7fb05d46fcf8>, 'TGAAA': <gensim.models.keyedvectors.Vocab object at 0x7fb05d46fd68>, 'GGAAT': <gensim.models.keyedvectors.Vocab object at 0x7fb05d46fdd8>, 'AATGC': <gensim.models.keyedvectors.Vocab object at 0x7fb05d46fe48>, 'AAATC': <gensim.models.keyedvectors.Vocab object at 0x7fb05d46feb8>, 'ATCCA': <gensim.models.keyedvectors.Vocab object at 0x7fb05d46ff28>, 'ACCCT': <gensim.models.keyedvectors.Vocab object at 0x7fb05d46ff98>, 'AACAG': <gensim.models.keyedvectors.Vocab object at 0x7fb05d47f828>, 'GAAAT': <gensim.models.keyedvectors.Vocab object at 0x7fb05d47f898>, 'AATGT': <gensim.models.keyedvectors.Vocab object at 0x7fb05d47f908>, 'TGTAG': <gensim.models.keyedvectors.Vocab object at 0x7fb05d47f978>, 'ACAAG': <gensim.models.keyedvectors.Vocab object at 0x7fb05d47f9e8>, 'AGCCT': <gensim.models.keyedvectors.Vocab object at 0x7fb05d47fa58>, 'GGGTA': <gensim.models.keyedvectors.Vocab object at 0x7fb05d47fac8>, 'GTAAA': <gensim.models.keyedvectors.Vocab object at 0x7fb05d47fb38>, 'AAGTA': <gensim.models.keyedvectors.Vocab object at 0x7fb05d47fba8>, 'GTGCA': <gensim.models.keyedvectors.Vocab object at 0x7fb05d47fc18>, 'GTAAC': <gensim.models.keyedvectors.Vocab object at 0x7fb05d47fc88>, 'AAACC': <gensim.models.keyedvectors.Vocab object at 0x7fb05d47fcf8>, 'TACAC': <gensim.models.keyedvectors.Vocab object at 0x7fb05d47fd68>, 'TGCTC': <gensim.models.keyedvectors.Vocab object at 0x7fb05d47fdd8>, 'CGCAT': <gensim.models.keyedvectors.Vocab object at 0x7fb05d47fe48>, 'CATCC': <gensim.models.keyedvectors.Vocab object at 0x7fb05d47feb8>, 'CTATT': <gensim.models.keyedvectors.Vocab object at 0x7fb05d47ff28>, 'ATTGG': <gensim.models.keyedvectors.Vocab object at 0x7fb05d47ff98>, 'CGTTA': <gensim.models.keyedvectors.Vocab object at 0x7fb05d47f048>, 'TTAGT': <gensim.models.keyedvectors.Vocab object at 0x7fb05d47f0b8>, 'ACCTG': <gensim.models.keyedvectors.Vocab object at 0x7fb05d47f128>, 'GCAAA': <gensim.models.keyedvectors.Vocab object at 0x7fb05d47f198>, 'AACGT': <gensim.models.keyedvectors.Vocab object at 0x7fb05d47f208>, 'GTCTT': <gensim.models.keyedvectors.Vocab object at 0x7fb05d47f278>, 'CTTTC': <gensim.models.keyedvectors.Vocab object at 0x7fb05d47f2e8>, 'TTCTT': <gensim.models.keyedvectors.Vocab object at 0x7fb05d47f358>, 'CTTCC': <gensim.models.keyedvectors.Vocab object at 0x7fb05d47f3c8>, 'TCCAT': <gensim.models.keyedvectors.Vocab object at 0x7fb05d47f438>, 'CATGT': <gensim.models.keyedvectors.Vocab object at 0x7fb05d47f4a8>, 'CACAA': <gensim.models.keyedvectors.Vocab object at 0x7fb05d47f518>, 'GTTCC': <gensim.models.keyedvectors.Vocab object at 0x7fb05d47f588>, 'TCCGA': <gensim.models.keyedvectors.Vocab object at 0x7fb05d47f5f8>, 'CGAAG': <gensim.models.keyedvectors.Vocab object at 0x7fb05d47f668>, 'GAGTA': <gensim.models.keyedvectors.Vocab object at 0x7fb05d47f6d8>, 'GTATC': <gensim.models.keyedvectors.Vocab object at 0x7fb05d47f748>, 'CTCCT': <gensim.models.keyedvectors.Vocab object at 0x7fb05d47f7b8>, 'TCAAT': <gensim.models.keyedvectors.Vocab object at 0x7fb05d484048>, 'AATAT': <gensim.models.keyedvectors.Vocab object at 0x7fb05d4840b8>, 'TATGG': <gensim.models.keyedvectors.Vocab object at 0x7fb05d484128>, 'TGGTT': <gensim.models.keyedvectors.Vocab object at 0x7fb05d484198>, 'GTTCG': <gensim.models.keyedvectors.Vocab object at 0x7fb05d484208>, 'GTTGT': <gensim.models.keyedvectors.Vocab object at 0x7fb05d484278>, 'TGTTA': <gensim.models.keyedvectors.Vocab object at 0x7fb05d4842e8>, 'TTACT': <gensim.models.keyedvectors.Vocab object at 0x7fb05d484358>, 'ACTTG': <gensim.models.keyedvectors.Vocab object at 0x7fb05d4843c8>, 'TTGTA': <gensim.models.keyedvectors.Vocab object at 0x7fb05d484438>, 'ATTTG': <gensim.models.keyedvectors.Vocab object at 0x7fb05d4844a8>, 'GAATA': <gensim.models.keyedvectors.Vocab object at 0x7fb05d484518>, 'ATAAG': <gensim.models.keyedvectors.Vocab object at 0x7fb05d484588>, 'AAGAA': <gensim.models.keyedvectors.Vocab object at 0x7fb05d4845f8>, 'GACAG': <gensim.models.keyedvectors.Vocab object at 0x7fb05d484668>, 'TTTGA': <gensim.models.keyedvectors.Vocab object at 0x7fb05d4846d8>, 'ACGAT': <gensim.models.keyedvectors.Vocab object at 0x7fb05d484748>, 'GATAG': <gensim.models.keyedvectors.Vocab object at 0x7fb05d4847b8>, 'TAGCG': <gensim.models.keyedvectors.Vocab object at 0x7fb05d484828>, 'GTTTT': <gensim.models.keyedvectors.Vocab object at 0x7fb05d484898>, 'ACATA': <gensim.models.keyedvectors.Vocab object at 0x7fb05d484908>, 'ATATG': <gensim.models.keyedvectors.Vocab object at 0x7fb05d484978>, 'ATGTT': <gensim.models.keyedvectors.Vocab object at 0x7fb05d4849e8>, 'GTTAC': <gensim.models.keyedvectors.Vocab object at 0x7fb05d484a58>, 'AACGG': <gensim.models.keyedvectors.Vocab object at 0x7fb05d484ac8>, 'TTGTG': <gensim.models.keyedvectors.Vocab object at 0x7fb05d484b38>, 'GATTT': <gensim.models.keyedvectors.Vocab object at 0x7fb05d484ba8>, 'TTTCT': <gensim.models.keyedvectors.Vocab object at 0x7fb05d484c18>, 'TGCTT': <gensim.models.keyedvectors.Vocab object at 0x7fb05d484c88>, 'CTTAT': <gensim.models.keyedvectors.Vocab object at 0x7fb05d484cf8>, 'TATGA': <gensim.models.keyedvectors.Vocab object at 0x7fb05d484d68>, 'TGAAT': <gensim.models.keyedvectors.Vocab object at 0x7fb05d484dd8>, 'AATCT': <gensim.models.keyedvectors.Vocab object at 0x7fb05d484e48>, 'TCGGT': <gensim.models.keyedvectors.Vocab object at 0x7fb05d484eb8>, 'TACAT': <gensim.models.keyedvectors.Vocab object at 0x7fb05d484f28>, 'TTCTA': <gensim.models.keyedvectors.Vocab object at 0x7fb05d484f98>, 'ACTCA': <gensim.models.keyedvectors.Vocab object at 0x7fb05d495048>, 'TCACT': <gensim.models.keyedvectors.Vocab object at 0x7fb05d4950b8>, 'CTTAG': <gensim.models.keyedvectors.Vocab object at 0x7fb05d495128>, 'GGAAG': <gensim.models.keyedvectors.Vocab object at 0x7fb05d495198>, 'GTAGT': <gensim.models.keyedvectors.Vocab object at 0x7fb05d495208>, 'ATTCA': <gensim.models.keyedvectors.Vocab object at 0x7fb05d495278>, 'AGTAA': <gensim.models.keyedvectors.Vocab object at 0x7fb05d4952e8>, 'AGCTA': <gensim.models.keyedvectors.Vocab object at 0x7fb05d495358>, 'CTAAG': <gensim.models.keyedvectors.Vocab object at 0x7fb05d4953c8>, 'AAGAT': <gensim.models.keyedvectors.Vocab object at 0x7fb05d495438>, 'TAGCA': <gensim.models.keyedvectors.Vocab object at 0x7fb05d4954a8>, 'ACCAA': <gensim.models.keyedvectors.Vocab object at 0x7fb05d495518>, 'CTGAC': <gensim.models.keyedvectors.Vocab object at 0x7fb05d495588>, 'CTCGT': <gensim.models.keyedvectors.Vocab object at 0x7fb05d4955f8>, 'TAGTG': <gensim.models.keyedvectors.Vocab object at 0x7fb05d495668>, 'GTGCT': <gensim.models.keyedvectors.Vocab object at 0x7fb05d4956d8>, 'CAGTA': <gensim.models.keyedvectors.Vocab object at 0x7fb05d495748>, 'ACGTA': <gensim.models.keyedvectors.Vocab object at 0x7fb05d4957b8>, 'GTATG': <gensim.models.keyedvectors.Vocab object at 0x7fb05d495828>, 'CATAA': <gensim.models.keyedvectors.Vocab object at 0x7fb05d495898>, 'TAAAC': <gensim.models.keyedvectors.Vocab object at 0x7fb05d495908>, 'AACTT': <gensim.models.keyedvectors.Vocab object at 0x7fb05d495978>, 'TCTAC': <gensim.models.keyedvectors.Vocab object at 0x7fb05d4959e8>, 'CTGTC': <gensim.models.keyedvectors.Vocab object at 0x7fb05d495a58>, 'TCATA': <gensim.models.keyedvectors.Vocab object at 0x7fb05d495ac8>, 'TAGGG': <gensim.models.keyedvectors.Vocab object at 0x7fb05d495b38>, 'ACGAA': <gensim.models.keyedvectors.Vocab object at 0x7fb05d495ba8>, 'GAACA': <gensim.models.keyedvectors.Vocab object at 0x7fb05d495c18>, 'CGTAT': <gensim.models.keyedvectors.Vocab object at 0x7fb05d495c88>, 'TATTG': <gensim.models.keyedvectors.Vocab object at 0x7fb05d495cf8>, 'AATTC': <gensim.models.keyedvectors.Vocab object at 0x7fb05d495d68>, 'AACGA': <gensim.models.keyedvectors.Vocab object at 0x7fb05d495dd8>, 'CATCT': <gensim.models.keyedvectors.Vocab object at 0x7fb05d495e48>, 'TTAAG': <gensim.models.keyedvectors.Vocab object at 0x7fb05d495eb8>, 'GCGCT': <gensim.models.keyedvectors.Vocab object at 0x7fb05d495f28>, 'AATTG': <gensim.models.keyedvectors.Vocab object at 0x7fb05d495f98>, 'GGTCG': <gensim.models.keyedvectors.Vocab object at 0x7fb05d479048>, 'CCGTC': <gensim.models.keyedvectors.Vocab object at 0x7fb05d4790b8>, 'CGTAC': <gensim.models.keyedvectors.Vocab object at 0x7fb05d479128>, 'AGTTG': <gensim.models.keyedvectors.Vocab object at 0x7fb05d479198>, 'TTGTT': <gensim.models.keyedvectors.Vocab object at 0x7fb05d479208>, 'AGGGT': <gensim.models.keyedvectors.Vocab object at 0x7fb05d479278>, 'GTGCG': <gensim.models.keyedvectors.Vocab object at 0x7fb05d4792e8>, 'CTTCG': <gensim.models.keyedvectors.Vocab object at 0x7fb05d479358>, 'GATGG': <gensim.models.keyedvectors.Vocab object at 0x7fb05d4793c8>, 'TTGGT': <gensim.models.keyedvectors.Vocab object at 0x7fb05d479438>, 'AGAGC': <gensim.models.keyedvectors.Vocab object at 0x7fb05d4794a8>, 'GTGGT': <gensim.models.keyedvectors.Vocab object at 0x7fb05d479518>, 'GGTCT': <gensim.models.keyedvectors.Vocab object at 0x7fb05d479588>, 'TCTCT': <gensim.models.keyedvectors.Vocab object at 0x7fb05d4795f8>, 'TCGCG': <gensim.models.keyedvectors.Vocab object at 0x7fb05d479668>, 'CTCCG': <gensim.models.keyedvectors.Vocab object at 0x7fb05d4796d8>, 'CCGTT': <gensim.models.keyedvectors.Vocab object at 0x7fb05d479748>, 'GCAAT': <gensim.models.keyedvectors.Vocab object at 0x7fb05d4797b8>, 'AATGG': <gensim.models.keyedvectors.Vocab object at 0x7fb05d479828>, 'ATGCG': <gensim.models.keyedvectors.Vocab object at 0x7fb05d479898>, 'GACTG': <gensim.models.keyedvectors.Vocab object at 0x7fb05d479908>, 'TGGTC': <gensim.models.keyedvectors.Vocab object at 0x7fb05d479978>, 'ATACG': <gensim.models.keyedvectors.Vocab object at 0x7fb05d4799e8>, 'CCTTG': <gensim.models.keyedvectors.Vocab object at 0x7fb05d479a58>, 'GTCAT': <gensim.models.keyedvectors.Vocab object at 0x7fb05d479ac8>, 'TTGAG': <gensim.models.keyedvectors.Vocab object at 0x7fb05d479b38>, 'ATACA': <gensim.models.keyedvectors.Vocab object at 0x7fb05d479ba8>, 'AGAAC': <gensim.models.keyedvectors.Vocab object at 0x7fb05d479c18>, 'GGTAG': <gensim.models.keyedvectors.Vocab object at 0x7fb05d479c88>, 'AATCC': <gensim.models.keyedvectors.Vocab object at 0x7fb05d479cf8>, 'GGTTT': <gensim.models.keyedvectors.Vocab object at 0x7fb05d479d68>, 'TTTCA': <gensim.models.keyedvectors.Vocab object at 0x7fb05d479dd8>, 'ATGTC': <gensim.models.keyedvectors.Vocab object at 0x7fb05d479e48>, 'TTCAT': <gensim.models.keyedvectors.Vocab object at 0x7fb05d479eb8>, 'ACCTT': <gensim.models.keyedvectors.Vocab object at 0x7fb05d479f28>, 'TTTAG': <gensim.models.keyedvectors.Vocab object at 0x7fb05d479f98>, 'TAGAC': <gensim.models.keyedvectors.Vocab object at 0x7fb05d4a2048>, 'AGAAT': <gensim.models.keyedvectors.Vocab object at 0x7fb05d4a20b8>, 'TGATA': <gensim.models.keyedvectors.Vocab object at 0x7fb05d4a2128>, 'ATACC': <gensim.models.keyedvectors.Vocab object at 0x7fb05d4a2198>, 'GATTC': <gensim.models.keyedvectors.Vocab object at 0x7fb05d4a2208>, 'CCATG': <gensim.models.keyedvectors.Vocab object at 0x7fb05d4a2278>, 'TTTAC': <gensim.models.keyedvectors.Vocab object at 0x7fb05d4a22e8>, 'CGGTT': <gensim.models.keyedvectors.Vocab object at 0x7fb05d4a2358>, 'GTTTA': <gensim.models.keyedvectors.Vocab object at 0x7fb05d4a23c8>, 'TACTT': <gensim.models.keyedvectors.Vocab object at 0x7fb05d4a2438>, 'CAGTT': <gensim.models.keyedvectors.Vocab object at 0x7fb05d4a24a8>, 'TCCAC': <gensim.models.keyedvectors.Vocab object at 0x7fb05d4a2518>, 'ATCAC': <gensim.models.keyedvectors.Vocab object at 0x7fb05d4a2588>, 'CGTTT': <gensim.models.keyedvectors.Vocab object at 0x7fb05d4a25f8>, 'GTGTA': <gensim.models.keyedvectors.Vocab object at 0x7fb05d4a2668>, 'GTAGG': <gensim.models.keyedvectors.Vocab object at 0x7fb05d4a26d8>, 'TAGTT': <gensim.models.keyedvectors.Vocab object at 0x7fb05d4a2748>, 'TAGAA': <gensim.models.keyedvectors.Vocab object at 0x7fb05d4a27b8>, 'GAGGA': <gensim.models.keyedvectors.Vocab object at 0x7fb05d4a2828>, 'CAGAC': <gensim.models.keyedvectors.Vocab object at 0x7fb05d4a2898>, 'AAGCG': <gensim.models.keyedvectors.Vocab object at 0x7fb05d4a2908>, 'TCTGT': <gensim.models.keyedvectors.Vocab object at 0x7fb05d4a2978>, 'GTCGA': <gensim.models.keyedvectors.Vocab object at 0x7fb05d4a29e8>, 'TAAAA': <gensim.models.keyedvectors.Vocab object at 0x7fb05d4a2a58>, 'TAGTA': <gensim.models.keyedvectors.Vocab object at 0x7fb05d4a2ac8>, 'GTATA': <gensim.models.keyedvectors.Vocab object at 0x7fb05d4a2b38>, 'ATAGC': <gensim.models.keyedvectors.Vocab object at 0x7fb05d4a2ba8>, 'CGAAT': <gensim.models.keyedvectors.Vocab object at 0x7fb05d4a2c18>, 'ACTGC': <gensim.models.keyedvectors.Vocab object at 0x7fb05d4a2c88>, 'TGCGA': <gensim.models.keyedvectors.Vocab object at 0x7fb05d4a2cf8>, 'CAGGT': <gensim.models.keyedvectors.Vocab object at 0x7fb05d4a2d68>, 'CACTC': <gensim.models.keyedvectors.Vocab object at 0x7fb05d4a2dd8>, 'AAAGA': <gensim.models.keyedvectors.Vocab object at 0x7fb05d4a2e48>, 'AGATA': <gensim.models.keyedvectors.Vocab object at 0x7fb05d4a2eb8>, 'ATAAA': <gensim.models.keyedvectors.Vocab object at 0x7fb05d4a2f28>, 'AAACA': <gensim.models.keyedvectors.Vocab object at 0x7fb05d4a2f98>, 'GGTAC': <gensim.models.keyedvectors.Vocab object at 0x7fb05d473048>, 'TACTG': <gensim.models.keyedvectors.Vocab object at 0x7fb05d4730b8>, 'AGTAC': <gensim.models.keyedvectors.Vocab object at 0x7fb05d473128>, 'GCGTA': <gensim.models.keyedvectors.Vocab object at 0x7fb05d473198>, 'CCAAG': <gensim.models.keyedvectors.Vocab object at 0x7fb05d473208>, 'AGATC': <gensim.models.keyedvectors.Vocab object at 0x7fb05d473278>, 'AACAA': <gensim.models.keyedvectors.Vocab object at 0x7fb05d4732e8>, 'AGACA': <gensim.models.keyedvectors.Vocab object at 0x7fb05d473358>, 'CATGA': <gensim.models.keyedvectors.Vocab object at 0x7fb05d4733c8>, 'GAGTT': <gensim.models.keyedvectors.Vocab object at 0x7fb05d473438>, 'TACGT': <gensim.models.keyedvectors.Vocab object at 0x7fb05d4734a8>, 'ACAGT': <gensim.models.keyedvectors.Vocab object at 0x7fb05d473518>, 'AGTCT': <gensim.models.keyedvectors.Vocab object at 0x7fb05d473588>, 'GTTAT': <gensim.models.keyedvectors.Vocab object at 0x7fb05d4735f8>, 'TATAG': <gensim.models.keyedvectors.Vocab object at 0x7fb05d473668>, 'TAGAG': <gensim.models.keyedvectors.Vocab object at 0x7fb05d4736d8>, 'CTACA': <gensim.models.keyedvectors.Vocab object at 0x7fb05d473748>, 'CTAAC': <gensim.models.keyedvectors.Vocab object at 0x7fb05d4737b8>, 'CTATG': <gensim.models.keyedvectors.Vocab object at 0x7fb05d473828>, 'AATAC': <gensim.models.keyedvectors.Vocab object at 0x7fb05d473898>, 'CCTTA': <gensim.models.keyedvectors.Vocab object at 0x7fb05d473908>, 'AGTTA': <gensim.models.keyedvectors.Vocab object at 0x7fb05d473978>, 'GTTCA': <gensim.models.keyedvectors.Vocab object at 0x7fb05d4739e8>, 'TTATT': <gensim.models.keyedvectors.Vocab object at 0x7fb05d473a58>, 'AAGTT': <gensim.models.keyedvectors.Vocab object at 0x7fb05d473ac8>, 'TTTTC': <gensim.models.keyedvectors.Vocab object at 0x7fb05d473b38>, 'TCTAG': <gensim.models.keyedvectors.Vocab object at 0x7fb05d473ba8>, 'TAGGT': <gensim.models.keyedvectors.Vocab object at 0x7fb05d473c18>, 'TCAAA': <gensim.models.keyedvectors.Vocab object at 0x7fb05d473c88>, 'CATTT': <gensim.models.keyedvectors.Vocab object at 0x7fb05d473cf8>, 'TGCTA': <gensim.models.keyedvectors.Vocab object at 0x7fb05d473d68>, 'TCCGT': <gensim.models.keyedvectors.Vocab object at 0x7fb05d473dd8>, 'ATATC': <gensim.models.keyedvectors.Vocab object at 0x7fb05d473e48>, 'CTTAA': <gensim.models.keyedvectors.Vocab object at 0x7fb05d473eb8>, 'TACCG': <gensim.models.keyedvectors.Vocab object at 0x7fb05d473f28>, 'ACGAG': <gensim.models.keyedvectors.Vocab object at 0x7fb05d473f98>, 'AAGTC': <gensim.models.keyedvectors.Vocab object at 0x7fb05d4a5048>, 'CAAGA': <gensim.models.keyedvectors.Vocab object at 0x7fb05d4a50b8>, 'AAAAA': <gensim.models.keyedvectors.Vocab object at 0x7fb05d4a5128>, 'AAAAC': <gensim.models.keyedvectors.Vocab object at 0x7fb05d4a5198>, 'GTTAG': <gensim.models.keyedvectors.Vocab object at 0x7fb05d4a5208>, 'ACGCA': <gensim.models.keyedvectors.Vocab object at 0x7fb05d4a5278>, 'TATGC': <gensim.models.keyedvectors.Vocab object at 0x7fb05d4a52e8>, 'CTTGA': <gensim.models.keyedvectors.Vocab object at 0x7fb05d4a5358>, 'GGTTA': <gensim.models.keyedvectors.Vocab object at 0x7fb05d4a53c8>, 'TTAGA': <gensim.models.keyedvectors.Vocab object at 0x7fb05d4a5438>, 'TCTTT': <gensim.models.keyedvectors.Vocab object at 0x7fb05d4a54a8>, 'ATTAA': <gensim.models.keyedvectors.Vocab object at 0x7fb05d4a5518>, 'TAACA': <gensim.models.keyedvectors.Vocab object at 0x7fb05d4a5588>, 'TACTA': <gensim.models.keyedvectors.Vocab object at 0x7fb05d4a55f8>, 'AAGGC': <gensim.models.keyedvectors.Vocab object at 0x7fb05d4a5668>, 'TAGAT': <gensim.models.keyedvectors.Vocab object at 0x7fb05d4a56d8>, 'GATGT': <gensim.models.keyedvectors.Vocab object at 0x7fb05d4a5748>, 'GACAA': <gensim.models.keyedvectors.Vocab object at 0x7fb05d4a57b8>, 'CAATG': <gensim.models.keyedvectors.Vocab object at 0x7fb05d4a5828>, 'GAGAT': <gensim.models.keyedvectors.Vocab object at 0x7fb05d4a5898>, 'GATGA': <gensim.models.keyedvectors.Vocab object at 0x7fb05d4a5908>, 'GATCG': <gensim.models.keyedvectors.Vocab object at 0x7fb05d4a5978>, 'ATGGT': <gensim.models.keyedvectors.Vocab object at 0x7fb05d4a59e8>, 'TGTGT': <gensim.models.keyedvectors.Vocab object at 0x7fb05d4a5a58>, 'CAATT': <gensim.models.keyedvectors.Vocab object at 0x7fb05d4a5ac8>, 'GTCTA': <gensim.models.keyedvectors.Vocab object at 0x7fb05d4a5b38>, 'CTATC': <gensim.models.keyedvectors.Vocab object at 0x7fb05d4a5ba8>, 'AGTAT': <gensim.models.keyedvectors.Vocab object at 0x7fb05d4a5c18>, 'CTCTT': <gensim.models.keyedvectors.Vocab object at 0x7fb05d4a5c88>, 'GTACG': <gensim.models.keyedvectors.Vocab object at 0x7fb05d4a5cf8>, 'ACGCT': <gensim.models.keyedvectors.Vocab object at 0x7fb05d4a5d68>, 'GGTAT': <gensim.models.keyedvectors.Vocab object at 0x7fb05d4a5dd8>, 'TATCT': <gensim.models.keyedvectors.Vocab object at 0x7fb05d4a5e48>, 'TTCGT': <gensim.models.keyedvectors.Vocab object at 0x7fb05d4a5eb8>, 'CGTCT': <gensim.models.keyedvectors.Vocab object at 0x7fb05d4a5f28>, 'GCGAT': <gensim.models.keyedvectors.Vocab object at 0x7fb05d4a5f98>, 'ATCGC': <gensim.models.keyedvectors.Vocab object at 0x7fb05d49c048>, 'GCATA': <gensim.models.keyedvectors.Vocab object at 0x7fb05d49c0b8>, 'ACTGG': <gensim.models.keyedvectors.Vocab object at 0x7fb05d49c128>, 'GTCCT': <gensim.models.keyedvectors.Vocab object at 0x7fb05d49c198>, 'TTGGA': <gensim.models.keyedvectors.Vocab object at 0x7fb05d49c208>, 'TACTC': <gensim.models.keyedvectors.Vocab object at 0x7fb05d49c278>, 'TGTTC': <gensim.models.keyedvectors.Vocab object at 0x7fb05d49c2e8>, 'AGCGA': <gensim.models.keyedvectors.Vocab object at 0x7fb05d49c358>, 'GCGTT': <gensim.models.keyedvectors.Vocab object at 0x7fb05d49c3c8>, 'ATCAA': <gensim.models.keyedvectors.Vocab object at 0x7fb05d49c438>, 'TCAGT': <gensim.models.keyedvectors.Vocab object at 0x7fb05d49c4a8>, 'TACCA': <gensim.models.keyedvectors.Vocab object at 0x7fb05d49c518>, 'CGATT': <gensim.models.keyedvectors.Vocab object at 0x7fb05d49c588>, 'TAACC': <gensim.models.keyedvectors.Vocab object at 0x7fb05d49c5f8>, 'CGTAA': <gensim.models.keyedvectors.Vocab object at 0x7fb05d49c668>, 'TGCAA': <gensim.models.keyedvectors.Vocab object at 0x7fb05d49c6d8>, 'TGTGC': <gensim.models.keyedvectors.Vocab object at 0x7fb05d49c748>, 'AATCG': <gensim.models.keyedvectors.Vocab object at 0x7fb05d49c7b8>, 'TCGAC': <gensim.models.keyedvectors.Vocab object at 0x7fb05d49c828>, 'AACCT': <gensim.models.keyedvectors.Vocab object at 0x7fb05d49c898>, 'CTTAC': <gensim.models.keyedvectors.Vocab object at 0x7fb05d49c908>, 'GAATC': <gensim.models.keyedvectors.Vocab object at 0x7fb05d49c978>, 'AAAAT': <gensim.models.keyedvectors.Vocab object at 0x7fb05d49c9e8>, 'AAATT': <gensim.models.keyedvectors.Vocab object at 0x7fb05d49ca58>, 'TCGTT': <gensim.models.keyedvectors.Vocab object at 0x7fb05d49cac8>, 'TTTAA': <gensim.models.keyedvectors.Vocab object at 0x7fb05d49cb38>, 'AGGTA': <gensim.models.keyedvectors.Vocab object at 0x7fb05d49cba8>, 'TTCGA': <gensim.models.keyedvectors.Vocab object at 0x7fb05d49cc18>, 'TTCAG': <gensim.models.keyedvectors.Vocab object at 0x7fb05d49cc88>, 'ATATT': <gensim.models.keyedvectors.Vocab object at 0x7fb05d49ccf8>, 'TAATT': <gensim.models.keyedvectors.Vocab object at 0x7fb05d49cd68>, 'CCGAA': <gensim.models.keyedvectors.Vocab object at 0x7fb05d49cdd8>, 'GGACT': <gensim.models.keyedvectors.Vocab object at 0x7fb05d49ce48>, 'TATAC': <gensim.models.keyedvectors.Vocab object at 0x7fb05d49ceb8>, 'AATAG': <gensim.models.keyedvectors.Vocab object at 0x7fb05d49cf28>, 'TCGGA': <gensim.models.keyedvectors.Vocab object at 0x7fb05d49cf98>, 'AATTT': <gensim.models.keyedvectors.Vocab object at 0x7fb05d481048>, 'GCACT': <gensim.models.keyedvectors.Vocab object at 0x7fb05d4810b8>, 'GTACC': <gensim.models.keyedvectors.Vocab object at 0x7fb05d481128>, 'GGATA': <gensim.models.keyedvectors.Vocab object at 0x7fb05d481198>, 'ATAGT': <gensim.models.keyedvectors.Vocab object at 0x7fb05d481208>, 'ATGGA': <gensim.models.keyedvectors.Vocab object at 0x7fb05d481278>, 'ACACT': <gensim.models.keyedvectors.Vocab object at 0x7fb05d4812e8>, 'TATAA': <gensim.models.keyedvectors.Vocab object at 0x7fb05d481358>, 'CAACT': <gensim.models.keyedvectors.Vocab object at 0x7fb05d4813c8>, 'GTTAA': <gensim.models.keyedvectors.Vocab object at 0x7fb05d481438>, 'TAATC': <gensim.models.keyedvectors.Vocab object at 0x7fb05d4814a8>, 'TACAA': <gensim.models.keyedvectors.Vocab object at 0x7fb05d481518>, 'ATCGT': <gensim.models.keyedvectors.Vocab object at 0x7fb05d481588>, 'GCTAT': <gensim.models.keyedvectors.Vocab object at 0x7fb05d4815f8>, 'ACTAG': <gensim.models.keyedvectors.Vocab object at 0x7fb05d481668>, 'CCTAA': <gensim.models.keyedvectors.Vocab object at 0x7fb05d4816d8>, 'GTAAG': <gensim.models.keyedvectors.Vocab object at 0x7fb05d481748>, 'TTAAT': <gensim.models.keyedvectors.Vocab object at 0x7fb05d4817b8>, 'TTAAC': <gensim.models.keyedvectors.Vocab object at 0x7fb05d481828>, 'TAAGT': <gensim.models.keyedvectors.Vocab object at 0x7fb05d481898>, 'CATAC': <gensim.models.keyedvectors.Vocab object at 0x7fb05d481908>, 'TTTTT': <gensim.models.keyedvectors.Vocab object at 0x7fb05d481978>, 'ATTGA': <gensim.models.keyedvectors.Vocab object at 0x7fb05d4819e8>, 'AGGAT': <gensim.models.keyedvectors.Vocab object at 0x7fb05d481a58>, 'TGGTA': <gensim.models.keyedvectors.Vocab object at 0x7fb05d481ac8>, 'GACAT': <gensim.models.keyedvectors.Vocab object at 0x7fb05d481b38>, 'AGACG': <gensim.models.keyedvectors.Vocab object at 0x7fb05d481ba8>, 'CGATA': <gensim.models.keyedvectors.Vocab object at 0x7fb05d481c18>, 'ATAGA': <gensim.models.keyedvectors.Vocab object at 0x7fb05d481c88>, 'TTATC': <gensim.models.keyedvectors.Vocab object at 0x7fb05d481cf8>, 'ATCGA': <gensim.models.keyedvectors.Vocab object at 0x7fb05d481d68>, 'CCTAT': <gensim.models.keyedvectors.Vocab object at 0x7fb05d481dd8>, 'ATTTA': <gensim.models.keyedvectors.Vocab object at 0x7fb05d481e48>, 'TTTAT': <gensim.models.keyedvectors.Vocab object at 0x7fb05d481eb8>, 'GATAT': <gensim.models.keyedvectors.Vocab object at 0x7fb05d481f28>, 'TAGGA': <gensim.models.keyedvectors.Vocab object at 0x7fb05d481f98>, 'GTCGT': <gensim.models.keyedvectors.Vocab object at 0x7fb05d476048>, 'TAACG': <gensim.models.keyedvectors.Vocab object at 0x7fb05d4760b8>, 'TATCA': <gensim.models.keyedvectors.Vocab object at 0x7fb05d476128>, 'TATTT': <gensim.models.keyedvectors.Vocab object at 0x7fb05d476198>, 'AGTTT': <gensim.models.keyedvectors.Vocab object at 0x7fb05d476208>, 'CAATA': <gensim.models.keyedvectors.Vocab object at 0x7fb05d476278>, 'ACTAT': <gensim.models.keyedvectors.Vocab object at 0x7fb05d4762e8>, 'TTTTA': <gensim.models.keyedvectors.Vocab object at 0x7fb05d476358>, 'CAAAT': <gensim.models.keyedvectors.Vocab object at 0x7fb05d4763c8>, 'CATAT': <gensim.models.keyedvectors.Vocab object at 0x7fb05d476438>, 'TATCC': <gensim.models.keyedvectors.Vocab object at 0x7fb05d4764a8>, 'AACAT': <gensim.models.keyedvectors.Vocab object at 0x7fb05d476518>, 'CTAAA': <gensim.models.keyedvectors.Vocab object at 0x7fb05d476588>, 'AAATA': <gensim.models.keyedvectors.Vocab object at 0x7fb05d4765f8>, 'ATATA': <gensim.models.keyedvectors.Vocab object at 0x7fb05d476668>, 'ATAAT': <gensim.models.keyedvectors.Vocab object at 0x7fb05d4766d8>, 'CCGTA': <gensim.models.keyedvectors.Vocab object at 0x7fb05d476748>, 'ATACT': <gensim.models.keyedvectors.Vocab object at 0x7fb05d4767b8>, 'TTATA': <gensim.models.keyedvectors.Vocab object at 0x7fb05d476828>, 'TGTAT': <gensim.models.keyedvectors.Vocab object at 0x7fb05d476898>, 'TATCG': <gensim.models.keyedvectors.Vocab object at 0x7fb05d476908>, 'TAATA': <gensim.models.keyedvectors.Vocab object at 0x7fb05d476978>, 'TATTA': <gensim.models.keyedvectors.Vocab object at 0x7fb05d4769e8>, 'TTACC': <gensim.models.keyedvectors.Vocab object at 0x7fb05d476a58>, 'TAAGA': <gensim.models.keyedvectors.Vocab object at 0x7fb05d476ac8>}\n"
          ],
          "name": "stdout"
        }
      ]
    },
    {
      "metadata": {
        "id": "pX3Kgiaoz8Fw",
        "colab_type": "code",
        "colab": {}
      },
      "cell_type": "code",
      "source": [
        "import torch\n",
        "import numpy as np\n",
        "from torch.utils.data import Dataset, DataLoader\n",
        "\n",
        "class chipseq_dataset(Dataset):\n",
        "    \"\"\" Diabetes dataset.\"\"\"\n",
        "\n",
        "    def __init__(self,xy=None,wv=None,k=5,s=1):\n",
        "        self.k=k\n",
        "        self.s=s\n",
        "        self.wv=wv\n",
        "        self.x_data=[el[0] for el in xy]\n",
        "        self.x_data=self.seqToKmers(self.x_data)\n",
        "        self.x_data=self.seqToIndices(self.x_data)\n",
        "#         print(len(self.x_data))\n",
        "#         print(len(self.x_data[1]))\n",
        "        self.y_data =np.asarray([el[1] for el in xy ],dtype=np.float32)\n",
        "\n",
        "        self.x_data =np.asarray(self.x_data,dtype=np.float32)\n",
        "        self.x_data = torch.LongTensor(self.x_data)\n",
        "        self.y_data = torch.from_numpy(self.y_data)\n",
        "        self.len=len(self.x_data)\n",
        "        \n",
        "    def seqToIndices(self,data):\n",
        "        out=[]\n",
        "        for string_data in data:\n",
        "          index_data = []\n",
        "          for word in string_data:\n",
        "              if word in self.wv:\n",
        "                  index_data.append(self.wv.vocab[word].index)\n",
        "              else:\n",
        "                  print('not found')\n",
        "          out.append(index_data)\n",
        "        return out\n",
        "    def seqToKmers(self,data):\n",
        "      \n",
        "        out=[]\n",
        "        for i in data:\n",
        "            kmer_list=[]\n",
        "            for j in range(0,(len(i)-self.k),self.s):\n",
        "                kmer_list.append(i[j:j+self.k])\n",
        "            out.append(kmer_list)\n",
        "        return out\n",
        "\n",
        "\n",
        "    def __getitem__(self, index):\n",
        "        return self.x_data[index], self.y_data[index]\n",
        "\n",
        "    def __len__(self):\n",
        "        return self.len\n",
        "\n"
      ],
      "execution_count": 0,
      "outputs": []
    },
    {
      "metadata": {
        "id": "yD_F4vtcz8F2",
        "colab_type": "code",
        "colab": {}
      },
      "cell_type": "code",
      "source": [
        "train1_dataset=chipseq_dataset(train1,model1.wv,K_mer,s=s)\n",
        "train2_dataset=chipseq_dataset(train2,model1.wv,K_mer,s=s)\n",
        "train3_dataset=chipseq_dataset(train3,model1.wv,K_mer,s=s)\n",
        "valid1_dataset=chipseq_dataset(valid1,model1.wv,K_mer,s=s)\n",
        "valid2_dataset=chipseq_dataset(valid2,model1.wv,K_mer,s=s)\n",
        "valid3_dataset=chipseq_dataset(valid3,model1.wv,K_mer,s=s)\n",
        "alldataset_dataset=chipseq_dataset(alldataset,model1.wv,K_mer,s=s)"
      ],
      "execution_count": 0,
      "outputs": []
    },
    {
      "metadata": {
        "id": "RfxIcGZoz8F9",
        "colab_type": "code",
        "colab": {}
      },
      "cell_type": "code",
      "source": [
        "batchSize=128\n",
        "\n",
        "train_loader1 = DataLoader(dataset=train1_dataset,batch_size=batchSize,shuffle=True)\n",
        "train_loader2 = DataLoader(dataset=train2_dataset,batch_size=batchSize,shuffle=True)\n",
        "train_loader3 = DataLoader(dataset=train3_dataset,batch_size=batchSize,shuffle=True)\n",
        "valid1_loader = DataLoader(dataset=valid1_dataset,batch_size=batchSize,shuffle=False)\n",
        "valid2_loader = DataLoader(dataset=valid2_dataset,batch_size=batchSize,shuffle=False)\n",
        "valid3_loader = DataLoader(dataset=valid3_dataset,batch_size=batchSize,shuffle=False)\n",
        "alldataset_loader=DataLoader(dataset=alldataset_dataset,batch_size=batchSize,shuffle=True)\n",
        "\n",
        "train_dataloader=[train_loader1,train_loader2,train_loader3]\n",
        "valid_dataloader=[valid1_loader,valid2_loader,valid3_loader]\n"
      ],
      "execution_count": 0,
      "outputs": []
    },
    {
      "metadata": {
        "id": "oHms3Olpz8GA",
        "colab_type": "code",
        "colab": {}
      },
      "cell_type": "code",
      "source": [
        "import torch \n",
        "import torch.nn as nn\n",
        "import torchvision\n",
        "import torchvision.transforms as transforms\n",
        "# Device configuration\n",
        "device = torch.device('cuda:0' if torch.cuda.is_available() else 'cpu')\n",
        "import torch.nn.functional as F\n",
        "from torch.nn import init\n",
        "\n",
        "\n",
        "\n",
        "\n",
        "# input of shape(batch_size,inp_chan,iW)\n",
        "class ConvNet(nn.Module):\n",
        "    def __init__(self, nummotif,motiflen,dropprob,learning_rate,LSTM_hidden_number,LSTM_hidden_number2,LSTM_layers=1,word2vec_path=None,embedding_dim=50):\n",
        "      \n",
        "        super(ConvNet, self).__init__()\n",
        "        \n",
        "        self.dropprob=dropprob\n",
        "        self.learning_rate=learning_rate\n",
        "        self.LSTM_hidden_number=LSTM_hidden_number\n",
        "        self.LSTM_layers=LSTM_layers\n",
        "        \n",
        "        model_wv = gensim.models.Word2Vec.load(word2vec_path)\n",
        "        weights = torch.FloatTensor(model_wv.wv.vectors)\n",
        "        self.embedding = nn.Embedding.from_pretrained(weights,freeze=False)\n",
        "        \n",
        "        self.wConv=torch.randn(nummotif,embedding_dim,motiflen).to(device)\n",
        "        torch.nn.init.xavier_uniform(self.wConv)\n",
        "        self.wConv.requires_grad=True\n",
        "\n",
        "        self.convBias=torch.randn(nummotif).to(device)\n",
        "        torch.nn.init.normal_(self.convBias)\n",
        "        self.convBias.requires_grad=True\n",
        "        \n",
        "        self.lstm1=nn.LSTM(nummotif, LSTM_hidden_number,num_layers=1,batch_first=True)\n",
        "        if LSTM_layers>1:\n",
        "            self.lstm2=nn.LSTM(LSTM_hidden_number, LSTM_hidden_number2,num_layers=1,batch_first=True)\n",
        "            for layer_p in self.lstm2._all_weights:\n",
        "              for p in layer_p:\n",
        "                  if 'weight' in p:\n",
        "                      init.normal(self.lstm2.__getattr__(p), 0.0, 1e-3)\n",
        "        for layer_p in self.lstm1._all_weights:\n",
        "            for p in layer_p:\n",
        "                if 'weight' in p:\n",
        "                    init.xavier_uniform(self.lstm1.__getattr__(p))\n",
        "        if LSTM_layers>1:\n",
        "          \n",
        "            self.fc1 = nn.Linear(LSTM_hidden_number2, 20) \n",
        "        else:\n",
        "          self.fc1 = nn.Linear(LSTM_hidden_number, 20)\n",
        "\n",
        "        torch.nn.init.xavier_uniform(self.fc1.weight)\n",
        "        self.fc1.bias.data.fill_(0.01)\n",
        "        \n",
        "        self.fc2 = nn.Linear(20, 1)\n",
        "        torch.nn.init.xavier_uniform(self.fc2.weight)\n",
        "        self.fc2.bias.data.fill_(0.01)\n",
        "        \n",
        "        \n",
        "        self.drop1=nn.Dropout(p=dropprob)\n",
        "        self.drop2=nn.Dropout(p=0.9)\n",
        "    \n",
        "    def forward(self, x):\n",
        "        x=x.long() \n",
        "        out=self.embedding(x)\n",
        "        out=out.permute(0, 2, 1)\n",
        "#         print(x.shape)\n",
        "        out=F.conv1d(out, self.wConv, bias=self.convBias, stride=1, padding=0)\n",
        "#         print(out.shape)\n",
        "        out=out.clamp(min=0)\n",
        "#         print(out.shape)\n",
        "#         maxPool, _ = torch.max(out, dim=2)\n",
        "#         out=torch.unsqueeze(maxPool,2)\n",
        "\n",
        "\n",
        "        ## shape(Batch,Channels,seq_len)\n",
        "#         print(out.shape)\n",
        "        out=out.permute(0, 2, 1)\n",
        "        ## shape((batch, seq, feature)\n",
        "#         print(out.shape)\n",
        "        output, (hn, cn)=self.lstm1(out)\n",
        "        if self.LSTM_layers==2:\n",
        "             output, (hn, cn)=self.lstm2(output)\n",
        "        hn=torch.squeeze(hn, 0)\n",
        "        # from (1,batch,hidden_size) to (batch,hidden_size)\n",
        "#         hn=hn.view(-1,self.LSTM_hidden_number)\n",
        "#         print(hn.shape)\n",
        "        out=self.drop1(hn)\n",
        "        out = self.fc1(out)\n",
        "        out=out.clamp(min=0)\n",
        "#         out=self.drop2(out)\n",
        "        out = self.fc2(out)\n",
        "        return out\n",
        "      \n",
        "      \n",
        "      \n",
        "      \n",
        "      \n",
        "      "
      ],
      "execution_count": 0,
      "outputs": []
    },
    {
      "metadata": {
        "id": "XGGiCzLU3uA6",
        "colab_type": "code",
        "colab": {}
      },
      "cell_type": "code",
      "source": [
        "import torch \n",
        "import torch.nn as nn\n",
        "import torchvision\n",
        "import torchvision.transforms as transforms\n",
        "# Device configuration\n",
        "device = torch.device('cuda:0' if torch.cuda.is_available() else 'cpu')\n",
        "import torch.nn.functional as F\n",
        "from torch.nn import init\n",
        "\n",
        "\n",
        "\n",
        "\n",
        "# input of shape(batch_size,inp_chan,iW)\n",
        "class ConvNet_b(nn.Module):\n",
        "    def __init__(self, nummotif,motiflen,dropprob,learning_rate,LSTM_hidden_number,LSTM_hidden_number2,LSTM_layers=1,word2vec_path=None,embedding_dim=50):\n",
        "      \n",
        "        super(ConvNet_b, self).__init__()\n",
        "        \n",
        "        self.dropprob=dropprob\n",
        "        self.learning_rate=learning_rate\n",
        "        self.LSTM_hidden_number=LSTM_hidden_number\n",
        "        self.LSTM_layers=LSTM_layers\n",
        "        \n",
        "        model_wv = gensim.models.Word2Vec.load(word2vec_path)\n",
        "        weights = torch.FloatTensor(model_wv.wv.vectors)\n",
        "        self.embedding = nn.Embedding.from_pretrained(weights,freeze=False)\n",
        "        \n",
        "        self.wConv=torch.randn(nummotif,embedding_dim,motiflen).to(device)\n",
        "        torch.nn.init.xavier_uniform(self.wConv)\n",
        "        self.wConv.requires_grad=True\n",
        "\n",
        "        self.convBias=torch.randn(nummotif).to(device)\n",
        "        torch.nn.init.normal_(self.convBias)\n",
        "        self.convBias.requires_grad=True\n",
        "        \n",
        "        self.GRU=nn.GRU(nummotif, LSTM_hidden_number,num_layers=1,batch_first=True,bidirectional=True)\n",
        "        if LSTM_layers>1:\n",
        "            self.lstm2=nn.LSTM(LSTM_hidden_number, LSTM_hidden_number2,num_layers=1,batch_first=True)\n",
        "            for layer_p in self.lstm2._all_weights:\n",
        "              for p in layer_p:\n",
        "                  if 'weight' in p:\n",
        "                      init.normal(self.lstm2.__getattr__(p), 0.0, 1e-3)\n",
        "        for layer_p in self.GRU._all_weights:\n",
        "            for p in layer_p:\n",
        "                if 'weight' in p:\n",
        "                    init.xavier_uniform(self.GRU.__getattr__(p))\n",
        "        if LSTM_layers>1:\n",
        "          \n",
        "            self.fc1 = nn.Linear(LSTM_hidden_number2, 20) \n",
        "        else:\n",
        "            self.fc1 = nn.Linear(2*LSTM_hidden_number, 1)\n",
        "\n",
        "        torch.nn.init.xavier_uniform(self.fc1.weight)\n",
        "        self.fc1.bias.data.fill_(0.01)\n",
        "        \n",
        "        self.fc2 = nn.Linear(20, 1)\n",
        "        torch.nn.init.xavier_uniform(self.fc2.weight)\n",
        "        self.fc2.bias.data.fill_(0.01)\n",
        "        \n",
        "        \n",
        "        self.drop1=nn.Dropout(p=dropprob)\n",
        "        self.drop2=nn.Dropout(p=0.9)\n",
        "    \n",
        "    def forward(self, x):\n",
        "        x=x.long() \n",
        "        out=self.embedding(x)\n",
        "        out=out.permute(0, 2, 1)\n",
        "        out=F.conv1d(out, self.wConv, bias=self.convBias, stride=1, padding=0)\n",
        "        out=out.clamp(min=0)\n",
        "\n",
        "        ## shape(Batch,Channels,seq_len)\n",
        "        out=out.permute(0, 2, 1)\n",
        "        ## shape((batch, seq, feature)\n",
        "        output, hn=self.GRU(out)\n",
        "        Normal_LSTM=hn[0, :, :]\n",
        "        Rev_LSTM=hn[1, :, :]\n",
        "        \n",
        "        Concat_LSTM = torch.cat((Normal_LSTM, Rev_LSTM), 1)\n",
        " \n",
        "      \n",
        "        \n",
        "        if self.LSTM_layers==2:\n",
        "             output, (hn, cn)=self.lstm2(output)\n",
        "\n",
        "        out=self.drop1(Concat_LSTM)\n",
        "        out = self.fc1(out)\n",
        "        return out\n",
        "      \n",
        "      \n",
        "      \n",
        "      \n",
        "      \n",
        "      "
      ],
      "execution_count": 0,
      "outputs": []
    },
    {
      "metadata": {
        "id": "3_ACNZE2z8GE",
        "colab_type": "code",
        "outputId": "260dd147-12df-4af8-a3e8-5d5f704eac79",
        "colab": {
          "base_uri": "https://localhost:8080/",
          "height": 1328
        }
      },
      "cell_type": "code",
      "source": [
        "best_AUC=0\n",
        "device = torch.device('cuda:0' if torch.cuda.is_available() else 'cpu')\n",
        "print(device)\n",
        "# device='cpu'\n",
        "\n",
        "for number in range(5):\n",
        "\n",
        "    dropoutList=[0.5,0.7,1]         \n",
        "    dropprob=random.choice(dropoutList)\n",
        "    \n",
        "    learning_rateList=[1e-2,1e-3,1e-4]\n",
        "    learning_rate=random.choice(learning_rateList)\n",
        " \n",
        "    weight_decayList=[1e-5,0]\n",
        "    weightDecay=random.choice(weight_decayList)\n",
        "  \n",
        "    LSTM_hidden_number=15\n",
        "    LSTM_hidden_number2=10\n",
        "    model_auc=[[],[],[]]\n",
        "    n=0\n",
        "    for learning_rate in [1e-2,1e-3,1e-4]:\n",
        "       for LSTM_hidden_number in [10,15,20,30]:\n",
        "        for weightDecay in [0.02,0.01,0.001]:\n",
        "          for nummotif in [10,20,30]:\n",
        "            for motiflen in [7,10,15,20]:\n",
        "              \n",
        "              n+=1\n",
        "              for kk in range(3):\n",
        "                  model = ConvNet_b(nummotif,motiflen,0.5,learning_rate,LSTM_hidden_number,LSTM_hidden_number2,LSTM_layers=1,word2vec_path=word2vec_path,embedding_dim=embedding_dim).to(device)\n",
        "                  model.train()\n",
        "                  optimizer = torch.optim.SGD([params for params in model.parameters()]+[model.wConv,model.convBias], lr=model.learning_rate,weight_decay=weightDecay)\n",
        "\n",
        "                  train_loader=train_dataloader[kk]\n",
        "                  valid_loader=valid_dataloader[kk]\n",
        "                  for epoch in range(40):\n",
        "                      model.train()\n",
        "                      auc=[]\n",
        "                      for i, (data, target) in enumerate(train_loader):\n",
        "                          data = data.to(device)\n",
        "                          target = target.to(device)\n",
        "\n",
        "\n",
        "                          # Forward pass\n",
        "                          output = model(data)\n",
        "\n",
        "                          loss = F.binary_cross_entropy(torch.sigmoid(output),target)\n",
        "\n",
        "\n",
        "                          optimizer.zero_grad()\n",
        "                          loss.backward()\n",
        "                          optimizer.step()\n",
        "\n",
        "\n",
        "                      with torch.no_grad():\n",
        "                          model.eval()\n",
        "                          auc=[]\n",
        "                          for i, (data, target) in enumerate(train_loader):\n",
        "                              data = data.to(device)\n",
        "                              target = target.to(device)\n",
        "\n",
        "                              # Forward pass\n",
        "                              output = model(data)\n",
        "                              pred_sig=torch.sigmoid(output)\n",
        "                              pred=pred_sig.cpu().detach().numpy().reshape(output.shape[0])\n",
        "                              labels=target.cpu().numpy().reshape(output.shape[0])\n",
        "\n",
        "                              auc.append(metrics.roc_auc_score(labels, pred))\n",
        "              #                         print(np.mean(auc))\n",
        "                          model_auc[kk].append(np.mean(auc))\n",
        "                          print('AUC performance on the training data',kk+1,' = ',np.mean(auc))\n",
        "\n",
        "\n",
        "                  with torch.no_grad():\n",
        "                      model.eval()\n",
        "                      auc=[]\n",
        "                      for i, (data, target) in enumerate(valid_loader):\n",
        "                          data = data.to(device)\n",
        "                          target = target.to(device)\n",
        "\n",
        "                          # Forward pass\n",
        "                          output = model(data)\n",
        "                          pred_sig=torch.sigmoid(output)\n",
        "                          pred=pred_sig.cpu().detach().numpy().reshape(output.shape[0])\n",
        "                          labels=target.cpu().numpy().reshape(output.shape[0])\n",
        "\n",
        "                          auc.append(metrics.roc_auc_score(labels, pred))\n",
        "\n",
        "                      model_auc[kk].append(np.mean(auc))\n",
        "              AUC=(model_auc[0][n]+model_auc[1][n]+model_auc[2][n])/3\n",
        "              if AUC>best_AUC:\n",
        "                  best_AUC=AUC\n",
        "                  print('best AUC= ',AUC)\n",
        "                  print('best parameters: ')\n",
        "                  print(learning_rate,' ',LSTM_hidden_number,' ',weightDecay,' ',nummotif,' ',motiflen)\n",
        "\n",
        "                  print('                   ##########################################               ')\n",
        "\n",
        "            \n",
        " "
      ],
      "execution_count": 0,
      "outputs": [
        {
          "output_type": "stream",
          "text": [
            "cuda:0\n"
          ],
          "name": "stdout"
        },
        {
          "output_type": "stream",
          "text": [
            "/usr/local/lib/python3.6/dist-packages/ipykernel_launcher.py:29: UserWarning: nn.init.xavier_uniform is now deprecated in favor of nn.init.xavier_uniform_.\n",
            "/usr/local/lib/python3.6/dist-packages/ipykernel_launcher.py:46: UserWarning: nn.init.xavier_uniform is now deprecated in favor of nn.init.xavier_uniform_.\n",
            "/usr/local/lib/python3.6/dist-packages/ipykernel_launcher.py:53: UserWarning: nn.init.xavier_uniform is now deprecated in favor of nn.init.xavier_uniform_.\n",
            "/usr/local/lib/python3.6/dist-packages/ipykernel_launcher.py:57: UserWarning: nn.init.xavier_uniform is now deprecated in favor of nn.init.xavier_uniform_.\n"
          ],
          "name": "stderr"
        },
        {
          "output_type": "stream",
          "text": [
            "AUC performance on the training data 1  =  0.5252159741348053\n",
            "AUC performance on the training data 1  =  0.5492179812615664\n",
            "AUC performance on the training data 1  =  0.568721009193198\n",
            "AUC performance on the training data 1  =  0.5859581946071115\n",
            "AUC performance on the training data 1  =  0.6006771774580181\n",
            "AUC performance on the training data 1  =  0.6129243907733376\n",
            "AUC performance on the training data 1  =  0.6255090858794713\n",
            "AUC performance on the training data 1  =  0.637198199206143\n",
            "AUC performance on the training data 1  =  0.6476328682544087\n",
            "AUC performance on the training data 1  =  0.6587557820517485\n",
            "AUC performance on the training data 1  =  0.6680848875178798\n",
            "AUC performance on the training data 1  =  0.6776179007097027\n",
            "AUC performance on the training data 1  =  0.6866340117314925\n",
            "AUC performance on the training data 1  =  0.6935616747495289\n",
            "AUC performance on the training data 1  =  0.7023066690613031\n",
            "AUC performance on the training data 1  =  0.7106137393923206\n",
            "AUC performance on the training data 1  =  0.7183343977989524\n",
            "AUC performance on the training data 1  =  0.7237367001453281\n",
            "AUC performance on the training data 1  =  0.730229501543892\n",
            "AUC performance on the training data 1  =  0.7368368755981494\n",
            "AUC performance on the training data 1  =  0.7416131154765123\n",
            "AUC performance on the training data 1  =  0.7475519898172819\n",
            "AUC performance on the training data 1  =  0.75310107760127\n",
            "AUC performance on the training data 1  =  0.7567845821018555\n",
            "AUC performance on the training data 1  =  0.7601935940725435\n",
            "AUC performance on the training data 1  =  0.7637801657166711\n",
            "AUC performance on the training data 1  =  0.7664735687482906\n",
            "AUC performance on the training data 1  =  0.7701018011748748\n",
            "AUC performance on the training data 1  =  0.7729911193777145\n",
            "AUC performance on the training data 1  =  0.7765685821082062\n",
            "AUC performance on the training data 1  =  0.7784438310066121\n",
            "AUC performance on the training data 1  =  0.7806959066255412\n",
            "AUC performance on the training data 1  =  0.7830447107886626\n",
            "AUC performance on the training data 1  =  0.7855468187607214\n",
            "AUC performance on the training data 1  =  0.7879392160479199\n",
            "AUC performance on the training data 1  =  0.789604541257654\n",
            "AUC performance on the training data 1  =  0.791695253827368\n",
            "AUC performance on the training data 1  =  0.7933051300257958\n",
            "AUC performance on the training data 1  =  0.7960921746170785\n",
            "AUC performance on the training data 1  =  0.7973126592828425\n",
            "AUC performance on the training data 2  =  0.5340065744578129\n",
            "AUC performance on the training data 2  =  0.561415031977427\n",
            "AUC performance on the training data 2  =  0.5829062870895055\n",
            "AUC performance on the training data 2  =  0.6037697702626424\n",
            "AUC performance on the training data 2  =  0.6198566979155072\n",
            "AUC performance on the training data 2  =  0.6337732715299423\n",
            "AUC performance on the training data 2  =  0.6475759503525943\n",
            "AUC performance on the training data 2  =  0.6589379977941789\n",
            "AUC performance on the training data 2  =  0.6700045693243641\n",
            "AUC performance on the training data 2  =  0.6788864391743794\n",
            "AUC performance on the training data 2  =  0.6883695911819157\n",
            "AUC performance on the training data 2  =  0.6949577347626686\n",
            "AUC performance on the training data 2  =  0.7009414815909053\n",
            "AUC performance on the training data 2  =  0.7064964937768639\n",
            "AUC performance on the training data 2  =  0.7117945418140867\n",
            "AUC performance on the training data 2  =  0.7159532295560221\n"
          ],
          "name": "stdout"
        },
        {
          "output_type": "error",
          "ename": "KeyboardInterrupt",
          "evalue": "ignored",
          "traceback": [
            "\u001b[0;31m---------------------------------------------------------------------------\u001b[0m",
            "\u001b[0;31mKeyboardInterrupt\u001b[0m                         Traceback (most recent call last)",
            "\u001b[0;32m<ipython-input-47-b575da5ac243>\u001b[0m in \u001b[0;36m<module>\u001b[0;34m()\u001b[0m\n\u001b[1;32m     44\u001b[0m                           \u001b[0moutput\u001b[0m \u001b[0;34m=\u001b[0m \u001b[0mmodel\u001b[0m\u001b[0;34m(\u001b[0m\u001b[0mdata\u001b[0m\u001b[0;34m)\u001b[0m\u001b[0;34m\u001b[0m\u001b[0;34m\u001b[0m\u001b[0m\n\u001b[1;32m     45\u001b[0m \u001b[0;34m\u001b[0m\u001b[0m\n\u001b[0;32m---> 46\u001b[0;31m                           \u001b[0mloss\u001b[0m \u001b[0;34m=\u001b[0m \u001b[0mF\u001b[0m\u001b[0;34m.\u001b[0m\u001b[0mbinary_cross_entropy\u001b[0m\u001b[0;34m(\u001b[0m\u001b[0mtorch\u001b[0m\u001b[0;34m.\u001b[0m\u001b[0msigmoid\u001b[0m\u001b[0;34m(\u001b[0m\u001b[0moutput\u001b[0m\u001b[0;34m)\u001b[0m\u001b[0;34m,\u001b[0m\u001b[0mtarget\u001b[0m\u001b[0;34m)\u001b[0m\u001b[0;34m\u001b[0m\u001b[0;34m\u001b[0m\u001b[0m\n\u001b[0m\u001b[1;32m     47\u001b[0m \u001b[0;34m\u001b[0m\u001b[0m\n\u001b[1;32m     48\u001b[0m \u001b[0;34m\u001b[0m\u001b[0m\n",
            "\u001b[0;32m/usr/local/lib/python3.6/dist-packages/torch/nn/functional.py\u001b[0m in \u001b[0;36mbinary_cross_entropy\u001b[0;34m(input, target, weight, size_average, reduce)\u001b[0m\n\u001b[1;32m   1481\u001b[0m         \u001b[0mweight\u001b[0m \u001b[0;34m=\u001b[0m \u001b[0mweight\u001b[0m\u001b[0;34m.\u001b[0m\u001b[0mexpand\u001b[0m\u001b[0;34m(\u001b[0m\u001b[0mnew_size\u001b[0m\u001b[0;34m)\u001b[0m\u001b[0;34m\u001b[0m\u001b[0;34m\u001b[0m\u001b[0m\n\u001b[1;32m   1482\u001b[0m \u001b[0;34m\u001b[0m\u001b[0m\n\u001b[0;32m-> 1483\u001b[0;31m     \u001b[0;32mreturn\u001b[0m \u001b[0mtorch\u001b[0m\u001b[0;34m.\u001b[0m\u001b[0m_C\u001b[0m\u001b[0;34m.\u001b[0m\u001b[0m_nn\u001b[0m\u001b[0;34m.\u001b[0m\u001b[0mbinary_cross_entropy\u001b[0m\u001b[0;34m(\u001b[0m\u001b[0minput\u001b[0m\u001b[0;34m,\u001b[0m \u001b[0mtarget\u001b[0m\u001b[0;34m,\u001b[0m \u001b[0mweight\u001b[0m\u001b[0;34m,\u001b[0m \u001b[0msize_average\u001b[0m\u001b[0;34m,\u001b[0m \u001b[0mreduce\u001b[0m\u001b[0;34m)\u001b[0m\u001b[0;34m\u001b[0m\u001b[0;34m\u001b[0m\u001b[0m\n\u001b[0m\u001b[1;32m   1484\u001b[0m \u001b[0;34m\u001b[0m\u001b[0m\n\u001b[1;32m   1485\u001b[0m \u001b[0;34m\u001b[0m\u001b[0m\n",
            "\u001b[0;31mKeyboardInterrupt\u001b[0m: "
          ]
        }
      ]
    },
    {
      "metadata": {
        "id": "ZObdD8Yaj8w1",
        "colab_type": "code",
        "outputId": "5e50c218-7802-4d76-dda3-777b686e0f2f",
        "colab": {
          "base_uri": "https://localhost:8080/",
          "height": 33
        }
      },
      "cell_type": "code",
      "source": [
        "chipseq_test=Chip_test('/content/drive/My Drive/Deepbind/USF1_HepG2_USF-1_HudsonAlpha_B.seq.gz')\n",
        "test_data=chipseq_test.openFile()\n",
        "print(len(test_data))\n",
        "test_dataset=chipseq_dataset(test_data,model1.wv,K_mer,s=s)\n",
        "batchSize=test_dataset.__len__()\n",
        "test_loader = DataLoader(dataset=test_dataset,batch_size=batchSize,shuffle=False)"
      ],
      "execution_count": 0,
      "outputs": [
        {
          "output_type": "stream",
          "text": [
            "1000\n"
          ],
          "name": "stdout"
        }
      ]
    },
    {
      "metadata": {
        "id": "C4oqk1HnfQQw",
        "colab_type": "code",
        "outputId": "d33b6d94-a604-4f95-c92b-1c1b4b847509",
        "colab": {
          "base_uri": "https://localhost:8080/",
          "height": 98
        }
      },
      "cell_type": "code",
      "source": [
        "learning_rate=0.015\n",
        "LSTM_hidden_number=10\n",
        "weightDecay=0.022\n",
        "nummotif=12\n",
        "motiflen=14\n",
        "model = ConvNet_b(nummotif,motiflen,0.5,learning_rate,LSTM_hidden_number,10,LSTM_layers=1,word2vec_path=word2vec_path,embedding_dim=embedding_dim).to(device)\n",
        "model.train()\n",
        "optimizer = torch.optim.SGD([params for params in model.parameters()]+[model.wConv,model.convBias], lr=model.learning_rate,weight_decay=weightDecay)\n",
        "\n",
        "train_loader=alldataset_loader\n",
        "valid_loader=test_loader\n",
        "for epoch in range(40):\n",
        "    model.train()\n",
        "  \n",
        "    \n",
        "    for i, (data, target) in enumerate(train_loader):\n",
        "        data = data.to(device)\n",
        "        target = target.to(device)\n",
        "\n",
        "\n",
        "        # Forward pass\n",
        "        output = model(data)\n",
        "\n",
        "        loss = F.binary_cross_entropy(torch.sigmoid(output),target)\n",
        "\n",
        "\n",
        "        optimizer.zero_grad()\n",
        "        loss.backward()\n",
        "        optimizer.step()\n",
        "\n",
        "\n",
        "\n",
        "\n",
        "\n",
        "\n",
        "with torch.no_grad():\n",
        "    model.eval()\n",
        "    auc=[]\n",
        "    for i, (data, target) in enumerate(valid_loader):\n",
        "        data = data.to(device)\n",
        "        target = target.to(device)\n",
        "\n",
        "        # Forward pass\n",
        "        output = model(data)\n",
        "        pred_sig=torch.sigmoid(output)\n",
        "        pred=pred_sig.cpu().detach().numpy().reshape(output.shape[0])\n",
        "        labels=target.cpu().numpy().reshape(output.shape[0])\n",
        "\n",
        "        auc.append(metrics.roc_auc_score(labels, pred))\n",
        "\n",
        "\n",
        "    print('AUC performance on test data number  = ',str(test_loader),' ',np.mean(auc))\n",
        "\n"
      ],
      "execution_count": 0,
      "outputs": [
        {
          "output_type": "stream",
          "text": [
            "/usr/local/lib/python3.6/dist-packages/ipykernel_launcher.py:29: UserWarning: nn.init.xavier_uniform is now deprecated in favor of nn.init.xavier_uniform_.\n",
            "/usr/local/lib/python3.6/dist-packages/ipykernel_launcher.py:46: UserWarning: nn.init.xavier_uniform is now deprecated in favor of nn.init.xavier_uniform_.\n",
            "/usr/local/lib/python3.6/dist-packages/ipykernel_launcher.py:53: UserWarning: nn.init.xavier_uniform is now deprecated in favor of nn.init.xavier_uniform_.\n",
            "/usr/local/lib/python3.6/dist-packages/ipykernel_launcher.py:57: UserWarning: nn.init.xavier_uniform is now deprecated in favor of nn.init.xavier_uniform_.\n"
          ],
          "name": "stderr"
        },
        {
          "output_type": "stream",
          "text": [
            "AUC performance on test data number  =  <torch.utils.data.dataloader.DataLoader object at 0x7fbb9b222320>   0.9842040000000001\n"
          ],
          "name": "stdout"
        }
      ]
    },
    {
      "metadata": {
        "id": "AtHbPeAohR6m",
        "colab_type": "code",
        "colab": {}
      },
      "cell_type": "code",
      "source": [
        ""
      ],
      "execution_count": 0,
      "outputs": []
    }
  ]
}